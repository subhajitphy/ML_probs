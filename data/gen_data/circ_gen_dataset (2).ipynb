{
  "nbformat": 4,
  "nbformat_minor": 0,
  "metadata": {
    "colab": {
      "provenance": []
    },
    "kernelspec": {
      "name": "python3",
      "display_name": "Python 3"
    },
    "language_info": {
      "name": "python"
    }
  },
  "cells": [
    {
      "cell_type": "code",
      "execution_count": null,
      "metadata": {
        "id": "vVjCqrOXxj7u"
      },
      "outputs": [],
      "source": [
        "import numpy as np\n",
        "import matplotlib.pyplot as plt\n",
        "from numpy import pi\n",
        "from scipy.integrate import solve_ivp"
      ]
    },
    {
      "cell_type": "code",
      "source": [
        "import astropy.constants as ac\n",
        "\n",
        "#Constants to be used later\n",
        "GMsun = ac.GM_sun.value                                  #G*(Solar Mass)\n",
        "c = ac.c.value                                           #Speed of light in vacuum\n",
        "dsun = GMsun/(c**2)                                      #Natural length scale\n",
        "tsun = GMsun/(c**3)                                      #Natural time scale\n",
        "pc = ac.pc.value                                         #One parsec\n",
        "yr = (365.25)*(24)*(60)*(60)                             #Seconds in one year"
      ],
      "metadata": {
        "id": "wNKGG22dy5gh"
      },
      "execution_count": null,
      "outputs": []
    },
    {
      "cell_type": "code",
      "source": [
        "def domg_dt(omg,Mc,eta):\n",
        "  tN_omg=Mc*omg*tsun\n",
        "  nu=1\n",
        "  res=(96/5*omg**2*tN_omg**(5/3)*(1+(59/18*eta**(6/5)+13661/2016*eta**(1/5)+34103/18144/\n",
        "  eta**(4/5))*tN_omg**(4/3)*nu**2+4/eta**(3/5)*nu**(3/2)*pi*tN_omg+(-11/4*eta**(3/5)- 43/336/eta**(2/5))*tN_omg**(2/3)*nu))\n",
        "  return res\n"
      ],
      "metadata": {
        "id": "V1o1Plcnxt5x"
      },
      "execution_count": null,
      "outputs": []
    },
    {
      "cell_type": "code",
      "source": [
        "domg_dt(1e-9,1e8,0.25)"
      ],
      "metadata": {
        "colab": {
          "base_uri": "https://localhost:8080/"
        },
        "id": "kS_ntNgF0j3D",
        "outputId": "577d4b00-e7c3-42e0-9c2d-3e99ec7e3db0"
      },
      "execution_count": null,
      "outputs": [
        {
          "output_type": "execute_result",
          "data": {
            "text/plain": [
              "np.float64(5.897729367069349e-28)"
            ]
          },
          "metadata": {},
          "execution_count": 4
        }
      ]
    },
    {
      "cell_type": "code",
      "source": [
        "# Define the get_PHI_omg function\n",
        "def get_PHI_omg(tarr, t0, phi0, omg0, Mc, eta):\n",
        "    # Define the system of ODEs\n",
        "    def odes(t, y):\n",
        "        phi, omg = y\n",
        "        dphi_dt = omg\n",
        "        domg_dt_val = domg_dt(omg, Mc, eta)\n",
        "        return [dphi_dt, domg_dt_val]\n",
        "\n",
        "    y0 = [phi0, omg0]\n",
        "\n",
        "    # Solve the ODEs\n",
        "    solution = solve_ivp(\n",
        "        fun=odes,\n",
        "        t_span=(tarr[0], tarr[-1]),  # t_span should be a tuple of (start, end)\n",
        "        y0=y0,\n",
        "        method='RK45',\n",
        "        t_eval=tarr,  # Points at which to evaluate the solution\n",
        "        rtol=1e-6,\n",
        "        atol=1e-8\n",
        "    )\n",
        "\n",
        "    # Extract results\n",
        "    t = solution.t\n",
        "    phi, omg = solution.y\n",
        "\n",
        "    return phi, omg"
      ],
      "metadata": {
        "id": "-TZ5CizY2HQC"
      },
      "execution_count": null,
      "outputs": []
    },
    {
      "cell_type": "code",
      "source": [
        "# Example usage\n",
        "tarr = np.linspace(0, 10, 100)*yr\n",
        "t0 = 0\n",
        "phi0 = 0\n",
        "omg0 = 132.73e-9\n",
        "M=5e9\n",
        "eta = 1/4\n",
        "Mc=M*eta**(3/5)\n",
        "\n",
        "\n",
        "phi, omg = get_PHI_omg(tarr, t0, phi0, omg0, Mc, eta)\n"
      ],
      "metadata": {
        "id": "932xEZuX4oqY"
      },
      "execution_count": null,
      "outputs": []
    },
    {
      "cell_type": "code",
      "source": [
        "np.log10(Mc)\n",
        "Mc"
      ],
      "metadata": {
        "colab": {
          "base_uri": "https://localhost:8080/"
        },
        "id": "GdMeU2HVg9N5",
        "outputId": "2405d8d6-d2b8-4350-e0e8-da104e27a7fe"
      },
      "execution_count": null,
      "outputs": [
        {
          "output_type": "execute_result",
          "data": {
            "text/plain": [
              "2176376408.24031"
            ]
          },
          "metadata": {},
          "execution_count": 7
        }
      ]
    },
    {
      "cell_type": "code",
      "source": [
        "plt.plot(tarr,phi)\n",
        "#plt.plot(tarr,omg)\n",
        "plt.show()"
      ],
      "metadata": {
        "colab": {
          "base_uri": "https://localhost:8080/",
          "height": 448
        },
        "id": "5IW9Sh6e4xNE",
        "outputId": "5be1b60d-0987-4b94-c1d2-89e5d7b28c6c"
      },
      "execution_count": null,
      "outputs": [
        {
          "output_type": "display_data",
          "data": {
            "text/plain": [
              "<Figure size 640x480 with 1 Axes>"
            ],
            "image/png": "[encoded data removed]"
          },
          "metadata": {}
        }
      ]
    },
    {
      "cell_type": "code",
      "source": [
        "plt.plot(tarr,omg)"
      ],
      "metadata": {
        "colab": {
          "base_uri": "https://localhost:8080/",
          "height": 481
        },
        "id": "WclXDbwl2JVl",
        "outputId": "efef6b21-a470-445f-89d4-838b58392d57"
      },
      "execution_count": null,
      "outputs": [
        {
          "output_type": "execute_result",
          "data": {
            "text/plain": [
              "[<matplotlib.lines.Line2D at 0x792e34eb4850>]"
            ]
          },
          "metadata": {},
          "execution_count": 9
        },
        {
          "output_type": "display_data",
          "data": {
            "text/plain": [
              "<Figure size 640x480 with 1 Axes>"
            ],
            "image/png": "[encoded data removed]"
          },
          "metadata": {}
        }
      ]
    },
    {
      "cell_type": "code",
      "source": [
        "#Defining function for omega(t)\n",
        "def Omega_ext(t, t0, omega0, Mc, eta, N):\n",
        "    '''\n",
        "    t = time\n",
        "    t0 = reference epoch\n",
        "    omega0 = omega(t0)\n",
        "    M = total mass of the SMBHB\n",
        "    eta = symmetric mass ratio\n",
        "    N = 0, 1, 1.5 or 2 (0--> Newtonian order, 1--> Upto 1PN, 1.5--> Upto 1.5PN, 2--> Upto 2PN)\n",
        "    '''\n",
        "\n",
        "    #Defining some parameters/scaled variables\n",
        "    #Mc = (M)*((eta)**(3/5))\n",
        "    M=Mc/((eta)**(3/5))\n",
        "    tm_ = tsun*M*omega0\n",
        "    tau = 1 - (((256)*((Mc)**(5/3))*((tsun)**(5/3))*((omega0)**(8/3))*(t - t0))/5)\n",
        "\n",
        "    if N==0:\n",
        "        return omega0/(tau**(3/8))\n",
        "\n",
        "    if N==1:\n",
        "        return omega0*( 1 / tau**(3/8) + ((11/8 * eta + 743/672) / tau**(5/8) + (-11/8 * eta - 743/672) / tau**(11/8) ) * tm_**(2/3) )\n",
        "\n",
        "    elif N==1.5:\n",
        "        return omega0*( 1 / tau**(3/8) + ((11/8 * eta + 743/672) / tau**(5/8) + (-11/8 * eta - 743/672) / tau**(11/8) ) * tm_**(2/3) + (12/5 / tau**(11/8) * np.pi - 12/5 / tau**(3/4) * np.pi) * tm_ )\n",
        "\n",
        "    elif N==2:\n",
        "        return omega0*( 1 / tau**(3/8) + ((11/8 * eta + 743/672) / tau**(5/8) + (-11/8 * eta - 743/672) / tau**(11/8) ) * tm_**(2/3) + (12/5 / tau**(11/8) * np.pi - 12/5 / tau**(3/4) * np.pi) * tm_ + ( (371/128 * eta**2 + 56975/16128 * eta + 1855099/903168) / tau**(7/8)\n",
        "        + (-617/192 * eta**2 - 5429/1344 * eta - 3058673/1354752) / tau**(11/8) + (-605/192 * eta**2 - 40865/8064 * eta - 2760245/1354752) / tau**(13/8) + (1331/384 * eta**2 + 89903/16128 * eta + 6072539/2709504) / tau**(19/8) ) * tm_**(4/3) )"
      ],
      "metadata": {
        "id": "uz6A1c8i6HzD"
      },
      "execution_count": null,
      "outputs": []
    },
    {
      "cell_type": "code",
      "source": [
        "plt.plot(tarr,Omega_ext(tarr, t0, omg0, Mc, eta, 0))\n",
        "plt.plot(tarr,Omega_ext(tarr, t0, omg0, Mc, eta, 2))\n",
        "plt.show()"
      ],
      "metadata": {
        "colab": {
          "base_uri": "https://localhost:8080/",
          "height": 463
        },
        "id": "-FTxJQffEAOx",
        "outputId": "8fc1f6a0-2124-4411-9674-30798f2247ed"
      },
      "execution_count": null,
      "outputs": [
        {
          "output_type": "display_data",
          "data": {
            "text/plain": [
              "<Figure size 640x480 with 1 Axes>"
            ],
            "image/png": "[encoded data removed]"
          },
          "metadata": {}
        }
      ]
    },
    {
      "cell_type": "code",
      "source": [
        "def Omega(t, t0, omega0, Mc, eta, N):\n",
        "  return Omega_ext(t, t0, omega0, Mc, eta, N)-Omega_ext(t0, t0, omega0, Mc, eta, N)+omega0"
      ],
      "metadata": {
        "id": "eS5NdfWu-8XD"
      },
      "execution_count": null,
      "outputs": []
    },
    {
      "cell_type": "code",
      "source": [
        "#Expression for Phi(t) (upto 2PN)\n",
        "def Phi(t, t0, phi0, omega0, Mc, eta, N):\n",
        "    '''\n",
        "    t = time\n",
        "    t0 = reference epoch\n",
        "    phi0 = phi(t0)\n",
        "    omega0 = omega(t0)\n",
        "    M = total mass of the SMBHB\n",
        "    eta = symmetric mass ratio\n",
        "    N = 0, 1, 1.5 or 2 (0--> Newtonian order, 1--> Upto 1PN, 1.5--> Upto 1.5PN, 2--> Upto 2PN)\n",
        "    '''\n",
        "\n",
        "    #Defining function for 'indefinite' Phi(omega)\n",
        "    def phi(t, t0, phi0, omega0, Mc, eta, N):\n",
        "\n",
        "        #Getting omega(t)\n",
        "        omg = Omega_ext(t, t0, omega0, Mc, eta, N)\n",
        "\n",
        "        #Defining some parameters/scaled variables\n",
        "        #Mc = (M)*((eta)**(3/5))\n",
        "        tN_omg = tsun*Mc*omg\n",
        "\n",
        "        #Getting phi(t)\n",
        "        if N==0:\n",
        "            return - 1 / (32 * tN_omg**(5/3))\n",
        "\n",
        "        elif N==1:\n",
        "            return - 1 / (32 * tN_omg**(5/3)) + (-55/384 * eta**(3/5) - 3715/32256 / eta**(2/5)) / tN_omg\n",
        "\n",
        "        elif N==1.5:\n",
        "            return - 1 / (32 * tN_omg**(5/3)) + (-55/384 * eta**(3/5) - 3715/32256 / eta**(2/5)) / tN_omg + 5 / (16 * tN_omg**(2/3) * eta**(3/5)) * np.pi\n",
        "\n",
        "        elif N==2:\n",
        "            return - 1 / (32 * tN_omg**(5/3)) + (-55/384 * eta**(3/5) - 3715/32256 / eta**(2/5)) / tN_omg + 5 / (16 * tN_omg**(2/3) * eta**(3/5)) * np.pi + (-3085/4608 * eta**(6/5) - 27145/32256 * eta**(1/5) - 15293365/32514048 / eta**(4/5)) / tN_omg**(1/3)\n",
        "\n",
        "    return phi(t, t0, phi0, omega0, Mc, eta, N) - phi(t0, t0, phi0, omega0, Mc, eta, N) + phi0"
      ],
      "metadata": {
        "id": "AZPcoat972Wx"
      },
      "execution_count": null,
      "outputs": []
    },
    {
      "cell_type": "code",
      "source": [
        "phi_ana=Phi(tarr, t0, phi0, omg0, Mc, eta, 2)"
      ],
      "metadata": {
        "id": "7yxqHaHW78k_"
      },
      "execution_count": null,
      "outputs": []
    },
    {
      "cell_type": "code",
      "source": [
        "tarr/yr"
      ],
      "metadata": {
        "colab": {
          "base_uri": "https://localhost:8080/"
        },
        "id": "Kmq3zc-6QKaa",
        "outputId": "dddac419-497a-473d-e520-d8392acd6bbd"
      },
      "execution_count": null,
      "outputs": [
        {
          "output_type": "execute_result",
          "data": {
            "text/plain": [
              "array([ 0.        ,  0.1010101 ,  0.2020202 ,  0.3030303 ,  0.4040404 ,\n",
              "        0.50505051,  0.60606061,  0.70707071,  0.80808081,  0.90909091,\n",
              "        1.01010101,  1.11111111,  1.21212121,  1.31313131,  1.41414141,\n",
              "        1.51515152,  1.61616162,  1.71717172,  1.81818182,  1.91919192,\n",
              "        2.02020202,  2.12121212,  2.22222222,  2.32323232,  2.42424242,\n",
              "        2.52525253,  2.62626263,  2.72727273,  2.82828283,  2.92929293,\n",
              "        3.03030303,  3.13131313,  3.23232323,  3.33333333,  3.43434343,\n",
              "        3.53535354,  3.63636364,  3.73737374,  3.83838384,  3.93939394,\n",
              "        4.04040404,  4.14141414,  4.24242424,  4.34343434,  4.44444444,\n",
              "        4.54545455,  4.64646465,  4.74747475,  4.84848485,  4.94949495,\n",
              "        5.05050505,  5.15151515,  5.25252525,  5.35353535,  5.45454545,\n",
              "        5.55555556,  5.65656566,  5.75757576,  5.85858586,  5.95959596,\n",
              "        6.06060606,  6.16161616,  6.26262626,  6.36363636,  6.46464646,\n",
              "        6.56565657,  6.66666667,  6.76767677,  6.86868687,  6.96969697,\n",
              "        7.07070707,  7.17171717,  7.27272727,  7.37373737,  7.47474747,\n",
              "        7.57575758,  7.67676768,  7.77777778,  7.87878788,  7.97979798,\n",
              "        8.08080808,  8.18181818,  8.28282828,  8.38383838,  8.48484848,\n",
              "        8.58585859,  8.68686869,  8.78787879,  8.88888889,  8.98989899,\n",
              "        9.09090909,  9.19191919,  9.29292929,  9.39393939,  9.49494949,\n",
              "        9.5959596 ,  9.6969697 ,  9.7979798 ,  9.8989899 , 10.        ])"
            ]
          },
          "metadata": {},
          "execution_count": 15
        }
      ]
    },
    {
      "cell_type": "code",
      "source": [
        "omg0*yr"
      ],
      "metadata": {
        "colab": {
          "base_uri": "https://localhost:8080/"
        },
        "id": "diAwSlnYUqjP",
        "outputId": "b1a7e6ef-55bc-4dc5-a2e0-caf2c6855757"
      },
      "execution_count": null,
      "outputs": [
        {
          "output_type": "execute_result",
          "data": {
            "text/plain": [
              "4.188640248"
            ]
          },
          "metadata": {},
          "execution_count": 16
        }
      ]
    },
    {
      "cell_type": "code",
      "source": [
        "omg/omg0"
      ],
      "metadata": {
        "colab": {
          "base_uri": "https://localhost:8080/"
        },
        "id": "2XZtsLCsUzPr",
        "outputId": "d7b0ed2d-b0fc-4bf3-a2e8-4f2ad17b6472"
      },
      "execution_count": null,
      "outputs": [
        {
          "output_type": "execute_result",
          "data": {
            "text/plain": [
              "array([1.        , 1.0001499 , 1.00029989, 1.00044996, 1.00060012,\n",
              "       1.00075036, 1.00090068, 1.00105108, 1.00120157, 1.00135214,\n",
              "       1.0015028 , 1.00165354, 1.00180436, 1.00195527, 1.00210626,\n",
              "       1.00225734, 1.0024085 , 1.00255974, 1.00271107, 1.00286249,\n",
              "       1.00301398, 1.00316557, 1.00331723, 1.00346899, 1.00362082,\n",
              "       1.00377275, 1.00392475, 1.00407684, 1.00422902, 1.00438129,\n",
              "       1.00453363, 1.00468607, 1.00483859, 1.00499119, 1.00514388,\n",
              "       1.00529666, 1.00544952, 1.00560247, 1.0057555 , 1.00590862,\n",
              "       1.00606183, 1.00621512, 1.0063685 , 1.00652197, 1.00667552,\n",
              "       1.00682916, 1.00698289, 1.0071367 , 1.0072906 , 1.00744459,\n",
              "       1.00759866, 1.00775282, 1.00790707, 1.00806141, 1.00821583,\n",
              "       1.00837034, 1.00852494, 1.00867962, 1.0088344 , 1.00898926,\n",
              "       1.00914421, 1.00929925, 1.00945437, 1.00960958, 1.00976489,\n",
              "       1.00992028, 1.01007576, 1.01023132, 1.01038698, 1.01054272,\n",
              "       1.01069856, 1.01085448, 1.01101049, 1.01116659, 1.01132278,\n",
              "       1.01147906, 1.01163543, 1.01179189, 1.01194843, 1.01210507,\n",
              "       1.0122618 , 1.01241861, 1.01257552, 1.01273252, 1.0128896 ,\n",
              "       1.01304678, 1.01320404, 1.0133614 , 1.01351885, 1.01367639,\n",
              "       1.01383401, 1.01399173, 1.01414954, 1.01430744, 1.01446544,\n",
              "       1.01462352, 1.01478169, 1.01493996, 1.01509831, 1.01525676])"
            ]
          },
          "metadata": {},
          "execution_count": 17
        }
      ]
    },
    {
      "cell_type": "code",
      "source": [
        "plt.plot(tarr,Phi(tarr, t0, phi0, omg0, Mc, eta, 2))\n",
        "plt.plot(tarr,Phi(tarr, t0, phi0, omg0, Mc, eta, 0))"
      ],
      "metadata": {
        "colab": {
          "base_uri": "https://localhost:8080/",
          "height": 466
        },
        "id": "R7UUxpONCxdO",
        "outputId": "27aab9ae-1a1a-45ed-db08-e2e042589dc8"
      },
      "execution_count": null,
      "outputs": [
        {
          "output_type": "execute_result",
          "data": {
            "text/plain": [
              "[<matplotlib.lines.Line2D at 0x792e34c0cf50>]"
            ]
          },
          "metadata": {},
          "execution_count": 18
        },
        {
          "output_type": "display_data",
          "data": {
            "text/plain": [
              "<Figure size 640x480 with 1 Axes>"
            ],
            "image/png": "[encoded data removed]"
          },
          "metadata": {}
        }
      ]
    },
    {
      "cell_type": "code",
      "source": [
        "plt.plot(tarr,phi)\n",
        "plt.plot(tarr,phi_ana)\n",
        "#plt.plot(tarr,omg)\n",
        "plt.show()"
      ],
      "metadata": {
        "colab": {
          "base_uri": "https://localhost:8080/",
          "height": 448
        },
        "id": "3jA7ZMWF8CVh",
        "outputId": "990505b9-cfc6-4981-87c0-5ed702236103"
      },
      "execution_count": null,
      "outputs": [
        {
          "output_type": "display_data",
          "data": {
            "text/plain": [
              "<Figure size 640x480 with 1 Axes>"
            ],
            "image/png": "[encoded data removed]"
          },
          "metadata": {}
        }
      ]
    },
    {
      "cell_type": "code",
      "source": [
        "omg_ana=Omega(tarr, t0,  omg0, Mc, eta, 2)"
      ],
      "metadata": {
        "id": "IpzLjR189sV5"
      },
      "execution_count": null,
      "outputs": []
    },
    {
      "cell_type": "code",
      "source": [
        "plt.plot(tarr,omg)\n",
        "plt.plot(tarr,omg_ana)\n",
        "#plt.plot(tarr,omg)\n",
        "plt.show()"
      ],
      "metadata": {
        "colab": {
          "base_uri": "https://localhost:8080/",
          "height": 463
        },
        "id": "f4RkQbAb-MYS",
        "outputId": "d570490d-f164-41cd-9f89-91699a47e60e"
      },
      "execution_count": null,
      "outputs": [
        {
          "output_type": "display_data",
          "data": {
            "text/plain": [
              "<Figure size 640x480 with 1 Axes>"
            ],
            "image/png": "[encoded data removed]"
          },
          "metadata": {}
        }
      ]
    },
    {
      "cell_type": "code",
      "source": [
        "sh=int(1e6)\n",
        "tarr_=np.random.uniform(0,40,sh)\n",
        "phi0_=np.random.uniform(0,2*pi,sh)\n",
        "lomg_0=np.random.uniform(-10,-6,sh)\n",
        "lM_=np.random.uniform(7,11,sh)\n",
        "eta_=np.random.uniform(0.01,0.25,sh)"
      ],
      "metadata": {
        "id": "TEwzqRGv-Rmc"
      },
      "execution_count": null,
      "outputs": []
    },
    {
      "cell_type": "code",
      "source": [
        "eta_"
      ],
      "metadata": {
        "colab": {
          "base_uri": "https://localhost:8080/"
        },
        "id": "3jR4p1KnVLlS",
        "outputId": "d9554859-2df7-4491-e81b-aa5fc8422179"
      },
      "execution_count": null,
      "outputs": [
        {
          "output_type": "execute_result",
          "data": {
            "text/plain": [
              "array([0.19511894, 0.21734501, 0.11782678, ..., 0.08933628, 0.17155545,\n",
              "       0.1149844 ])"
            ]
          },
          "metadata": {},
          "execution_count": 23
        }
      ]
    },
    {
      "cell_type": "code",
      "source": [
        "sh = int(1e6)\n",
        "\n",
        "# Define low and high bounds for each dimension\n",
        "lows = [0, 0, -10, 7, 0.1]              # Lower bounds: tarr_, phi0_, lomg_0, lM_, eta_\n",
        "highs = [40, 2 * pi, -7, 10, 0.25]       # Upper bounds: tarr_, phi0_, lomg_0, lM_, eta_\n",
        "\n",
        "# Generate 5D uniform random samples in one call\n",
        "samples = np.random.uniform(low=lows, high=highs, size=(sh, 5))"
      ],
      "metadata": {
        "id": "KFWKR1eDWc9p"
      },
      "execution_count": null,
      "outputs": []
    },
    {
      "cell_type": "code",
      "source": [
        "samples[50]"
      ],
      "metadata": {
        "colab": {
          "base_uri": "https://localhost:8080/"
        },
        "id": "0xgFXvSPaGlp",
        "outputId": "975d05a1-83c4-48c9-cf72-55692b0fbe1c"
      },
      "execution_count": null,
      "outputs": [
        {
          "output_type": "execute_result",
          "data": {
            "text/plain": [
              "array([30.26681083,  5.71103088, -9.16833151,  7.37748607,  0.23297669])"
            ]
          },
          "metadata": {},
          "execution_count": 25
        }
      ]
    },
    {
      "cell_type": "code",
      "source": [
        "samples[:,4]"
      ],
      "metadata": {
        "colab": {
          "base_uri": "https://localhost:8080/"
        },
        "id": "x4dObGlraHPS",
        "outputId": "dd50c649-c97f-4f12-ced8-2035a8bf85b8"
      },
      "execution_count": null,
      "outputs": [
        {
          "output_type": "execute_result",
          "data": {
            "text/plain": [
              "array([0.20372572, 0.23345611, 0.13977688, ..., 0.22331472, 0.1559195 ,\n",
              "       0.227671  ])"
            ]
          },
          "metadata": {},
          "execution_count": 26
        }
      ]
    },
    {
      "cell_type": "code",
      "source": [
        "10*samples[1,2]"
      ],
      "metadata": {
        "colab": {
          "base_uri": "https://localhost:8080/"
        },
        "id": "xt3FWB2pcva0",
        "outputId": "0e1c07e0-9a7a-426e-bafa-232a2290e4b9"
      },
      "execution_count": null,
      "outputs": [
        {
          "output_type": "execute_result",
          "data": {
            "text/plain": [
              "np.float64(-74.67905174966933)"
            ]
          },
          "metadata": {},
          "execution_count": 27
        }
      ]
    },
    {
      "cell_type": "code",
      "source": [
        "phi_arr=Phi(samples[:,0]*yr, 0, samples[:,1], 10**samples[:,2], 10**samples[:,3], samples[:,4], 2)/(2*pi)"
      ],
      "metadata": {
        "id": "hhGdBR9_by1t"
      },
      "execution_count": null,
      "outputs": []
    },
    {
      "cell_type": "code",
      "source": [],
      "metadata": {
        "id": "qFaKOTjbxpui"
      },
      "execution_count": null,
      "outputs": []
    },
    {
      "cell_type": "code",
      "source": [
        "Phi(17.7331*yr,  0,5.5556, 10**(-7.5040),  10**7.2940,  0.2057,2)/(2*pi)"
      ],
      "metadata": {
        "colab": {
          "base_uri": "https://localhost:8080/"
        },
        "id": "ijs8fRkQxaZ-",
        "outputId": "07c9bfdb-32cc-495b-c92c-961bbd4ec3bb"
      },
      "execution_count": null,
      "outputs": [
        {
          "output_type": "execute_result",
          "data": {
            "text/plain": [
              "np.float64(3.6748738619629697)"
            ]
          },
          "metadata": {},
          "execution_count": 38
        }
      ]
    },
    {
      "cell_type": "code",
      "source": [
        "phi_arr.shape"
      ],
      "metadata": {
        "colab": {
          "base_uri": "https://localhost:8080/"
        },
        "id": "O8M2-IozcW6T",
        "outputId": "d1937763-4b46-4460-8fb0-6bc97ce9def5"
      },
      "execution_count": null,
      "outputs": [
        {
          "output_type": "execute_result",
          "data": {
            "text/plain": [
              "(1000000,)"
            ]
          },
          "metadata": {},
          "execution_count": 39
        }
      ]
    },
    {
      "cell_type": "code",
      "source": [
        "[17.7331,  5.5556, -7.5040,  7.2940,  0.2057"
      ],
      "metadata": {
        "id": "HOEp2kgbzEtl"
      },
      "execution_count": null,
      "outputs": []
    },
    {
      "cell_type": "code",
      "source": [
        "nan_count = np.isnan(phi_arr).sum()\n",
        "nan_count"
      ],
      "metadata": {
        "colab": {
          "base_uri": "https://localhost:8080/"
        },
        "id": "JI4d7WD5eJPD",
        "outputId": "67559bdc-d151-446f-92aa-6be620c9c2e8"
      },
      "execution_count": null,
      "outputs": [
        {
          "output_type": "execute_result",
          "data": {
            "text/plain": [
              "np.int64(0)"
            ]
          },
          "metadata": {},
          "execution_count": 31
        }
      ]
    },
    {
      "cell_type": "code",
      "source": [
        "np.min(phi_arr)"
      ],
      "metadata": {
        "id": "uY1OL4xMefVK"
      },
      "execution_count": null,
      "outputs": []
    },
    {
      "cell_type": "code",
      "source": [
        "samples[int(np.where(phi_arr==np.max(phi_arr))[0][0])]"
      ],
      "metadata": {
        "id": "V_9qQONLgLcE"
      },
      "execution_count": null,
      "outputs": []
    },
    {
      "cell_type": "code",
      "source": [
        "Phi"
      ],
      "metadata": {
        "id": "aWUkTymChWi2"
      },
      "execution_count": null,
      "outputs": []
    },
    {
      "cell_type": "code",
      "source": [
        "phi_arr==np.max(phi_arr)"
      ],
      "metadata": {
        "id": "tUeVAJhWi4kH"
      },
      "execution_count": null,
      "outputs": []
    },
    {
      "cell_type": "code",
      "source": [
        "np.where(phi_arr>20)"
      ],
      "metadata": {
        "id": "73mxJiQFhZFw"
      },
      "execution_count": null,
      "outputs": []
    },
    {
      "cell_type": "code",
      "source": [
        "omg_arr=Omega(samples[:,0]*yr, 0, 10**samples[:,2], 10**samples[:,3], samples[:,4], 2)"
      ],
      "metadata": {
        "id": "bdTkX0yph4sI"
      },
      "execution_count": null,
      "outputs": []
    },
    {
      "cell_type": "code",
      "source": [
        "Omega"
      ],
      "metadata": {
        "id": "SRhvFcRvjv9_"
      },
      "execution_count": null,
      "outputs": []
    },
    {
      "cell_type": "code",
      "source": [
        "omg_arr[5],phi_arr[5]"
      ],
      "metadata": {
        "id": "FuyJ6oH7jzwn"
      },
      "execution_count": null,
      "outputs": []
    },
    {
      "cell_type": "code",
      "source": [
        "samples[:,2]"
      ],
      "metadata": {
        "id": "fkgdFSzsj-X8"
      },
      "execution_count": null,
      "outputs": []
    },
    {
      "cell_type": "code",
      "source": [
        "samples.shape"
      ],
      "metadata": {
        "id": "9Ji4a9u1kDU7"
      },
      "execution_count": null,
      "outputs": []
    },
    {
      "cell_type": "code",
      "source": [
        "data=np.concatenate([samples, omg_arr.reshape(-1, 1), phi_arr.reshape(-1, 1)], axis=1)"
      ],
      "metadata": {
        "id": "ilgdTCNUkOrX"
      },
      "execution_count": null,
      "outputs": []
    },
    {
      "cell_type": "code",
      "source": [
        "data.shape"
      ],
      "metadata": {
        "id": "dmZuScB6lA6e"
      },
      "execution_count": null,
      "outputs": []
    },
    {
      "cell_type": "code",
      "source": [
        "samples[5]"
      ],
      "metadata": {
        "id": "vRYOvx4slSZH"
      },
      "execution_count": null,
      "outputs": []
    },
    {
      "cell_type": "code",
      "source": [
        "data[5]"
      ],
      "metadata": {
        "id": "gKQBOYlelBnJ"
      },
      "execution_count": null,
      "outputs": []
    },
    {
      "cell_type": "code",
      "source": [
        "import torch\n",
        "data_tensor = torch.from_numpy(data).float()  # Convert to float32 for compatibility\n",
        "\n",
        "# Save the tensor to a .pt file\n",
        "torch.save(data_tensor, 'data.pt')"
      ],
      "metadata": {
        "id": "uvcQ6hN8lO7x"
      },
      "execution_count": null,
      "outputs": []
    },
    {
      "cell_type": "code",
      "source": [
        "data[1]"
      ],
      "metadata": {
        "id": "NyCMt9bGlmpP",
        "colab": {
          "base_uri": "https://localhost:8080/"
        },
        "outputId": "f0da78d7-e4f3-4404-d000-daff488a3c40"
      },
      "execution_count": null,
      "outputs": [
        {
          "output_type": "execute_result",
          "data": {
            "text/plain": [
              "array([ 2.81655995e+01,  3.56887071e+00, -7.46790517e+00,  8.18194280e+00,\n",
              "        2.33456109e-01,  3.40486877e-08,  5.38463455e+00])"
            ]
          },
          "metadata": {},
          "execution_count": 34
        }
      ]
    },
    {
      "cell_type": "code",
      "source": [],
      "metadata": {
        "id": "83bBt2LLw4dN"
      },
      "execution_count": null,
      "outputs": []
    }
  ]
}