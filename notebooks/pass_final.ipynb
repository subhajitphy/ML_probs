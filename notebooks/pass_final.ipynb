{
 "cells": [
  {
   "cell_type": "code",
   "execution_count": 7,
   "id": "b2e9c7c0-3096-4faa-8bf4-d23ad16741d6",
   "metadata": {},
   "outputs": [],
   "source": [
    "import torch\n",
    "import torch.nn as nn\n",
    "import numpy as np\n",
    "from torch.utils.data import DataLoader, TensorDataset\n",
    "from sklearn.preprocessing import StandardScaler\n",
    "import matplotlib.pyplot as plt\n",
    "\n",
    "# ==== Load and split data ====\n",
    "data_dir=\n",
    "data_tensor = torch.load(\"./PINN_test/progress/testing/data_test.pt\")  # Shape: (N, 7)\n",
    "X_data = data_tensor[:, :5].numpy()\n",
    "Y_data = data_tensor[:, 5:].numpy()"
   ]
  },
  {
   "cell_type": "code",
   "execution_count": 8,
   "id": "404a9cdf-b1d9-468f-b0cf-522fb7477671",
   "metadata": {},
   "outputs": [],
   "source": [
    "# ==== Apply StandardScaler ====\n",
    "X_scaler = StandardScaler()\n",
    "y_scaler = StandardScaler()\n",
    "\n",
    "X_scaled = X_scaler.fit_transform(X_data)\n",
    "Y_scaled = y_scaler.fit_transform(Y_data)\n",
    "\n",
    "X_tensor = torch.tensor(X_scaled, dtype=torch.float32)\n",
    "Y_tensor = torch.tensor(Y_scaled, dtype=torch.float32)\n",
    "\n",
    "# ==== Prepare DataLoader ====\n",
    "dataset = TensorDataset(X_tensor, Y_tensor)\n",
    "loader = DataLoader(dataset, batch_size=1024, shuffle=True)"
   ]
  },
  {
   "cell_type": "code",
   "execution_count": 13,
   "id": "d2576f62-efeb-4499-a135-a52ea0b2c0e5",
   "metadata": {},
   "outputs": [],
   "source": [
    "# ==== Define PINN ====\n",
    "class PINN(nn.Module):\n",
    "    def __init__(self):\n",
    "        super().__init__()\n",
    "        self.net = nn.Sequential(\n",
    "            nn.Linear(5, 64),\n",
    "            nn.Tanh(),\n",
    "            nn.Linear(64, 64),\n",
    "            nn.Tanh(),\n",
    "            nn.Linear(64, 2)  # output: [omega, phi]\n",
    "        )\n",
    "\n",
    "    def forward(self, x):\n",
    "        return self.net(x)\n",
    "\n",
    "    def physics_loss(self, x_scaled, X_scaler, y_scaler):\n",
    "        x_scaled = x_scaled.clone().detach().requires_grad_(True)\n",
    "        y_pred_scaled = self.forward(x_scaled)\n",
    "\n",
    "        d_y_scaled = torch.autograd.grad(\n",
    "            outputs=y_pred_scaled,\n",
    "            inputs=x_scaled,\n",
    "            grad_outputs=torch.ones_like(y_pred_scaled),\n",
    "            create_graph=True\n",
    "        )[0]\n",
    "\n",
    "        y_std = torch.tensor(y_scaler.scale_, dtype=torch.float32, device=x_scaled.device)\n",
    "        x_std = torch.tensor(X_scaler.scale_, dtype=torch.float32, device=x_scaled.device)\n",
    "        correction = y_std[:, None] / x_std[None, :]  # [2, 5]\n",
    "        d_y_unscaled = d_y_scaled.unsqueeze(1) * correction  # [N, 2, 5]\n",
    "\n",
    "        d_omega_dt = d_y_unscaled[:, 0, 0:1]\n",
    "        d_phi_dt = d_y_unscaled[:, 1, 0:1]\n",
    "\n",
    "        # also compute ground truth from true_system\n",
    "        x_unscaled = inverse_transform_tensor(x_scaled, X_scaler)\n",
    "        y_unscaled = inverse_transform_tensor(y_pred_scaled, y_scaler)\n",
    "\n",
    "        t = x_unscaled[:, 0:1]\n",
    "        Mc = x_unscaled[:, 3:4]\n",
    "        eta = x_unscaled[:, 4:5]\n",
    "        omega = y_unscaled[:, 0:1]\n",
    "        phi = y_unscaled[:, 1:2]\n",
    "\n",
    "        d_omega_true, d_phi_true = true_system(t, [omega, phi], Mc, eta)\n",
    "\n",
    "        criterion = nn.MSELoss()\n",
    "        ode_loss_omega = criterion(d_omega_dt, d_omega_true)\n",
    "        ode_loss_phi = criterion(d_phi_dt, d_phi_true)\n",
    "\n",
    "        return ode_loss_omega, ode_loss_phi, d_omega_dt, d_phi_dt"
   ]
  },
  {
   "cell_type": "code",
   "execution_count": 14,
   "id": "c3d590dc-5bdc-4fe7-a62e-f7317eadcaa2",
   "metadata": {},
   "outputs": [],
   "source": [
    "def inverse_transform_tensor(tensor_scaled, scaler):\n",
    "    device = tensor_scaled.device\n",
    "    dtype = tensor_scaled.dtype\n",
    "    scale = torch.tensor(scaler.scale_, dtype=dtype, device=device)\n",
    "    mean = torch.tensor(scaler.mean_, dtype=dtype, device=device)\n",
    "    return tensor_scaled * scale + mean"
   ]
  },
  {
   "cell_type": "code",
   "execution_count": 15,
   "id": "af6c47f3-904e-42e6-b227-1cfa576531ab",
   "metadata": {},
   "outputs": [],
   "source": [
    "# ==== Define true physical model ====\n",
    "tsun = 4.92549095e-6  # seconds\n",
    "\n",
    "def true_system(t, y, Mc, eta):\n",
    "    omega, phi = y\n",
    "    tN_omega = Mc * omega * tsun\n",
    "    d_omega = (96 / 5) * omega**2 * tN_omega**(5 / 3)\n",
    "    d_phi = omega\n",
    "    return [d_omega, d_phi]\n",
    "\n"
   ]
  },
  {
   "cell_type": "code",
   "execution_count": 16,
   "id": "bbb8255a-e5f4-4700-b704-3a6c58af8dee",
   "metadata": {},
   "outputs": [
    {
     "name": "stdout",
     "output_type": "stream",
     "text": [
      "Epoch 1: Total=1.416711, Data=0.856911, ODE ω=0.464880, ODE φ=0.530030\n",
      "Epoch 2: Total=0.798628, Data=0.562594, ODE ω=0.684869, ODE φ=0.461203\n",
      "Epoch 3: Total=0.552817, Data=0.317470, ODE ω=0.409969, ODE φ=1.154492\n",
      "Epoch 4: Total=0.470870, Data=0.273974, ODE ω=0.503526, ODE φ=1.378404\n",
      "Epoch 5: Total=0.447218, Data=0.262666, ODE ω=0.596990, ODE φ=1.312486\n",
      "Epoch 6: Total=0.433727, Data=0.249572, ODE ω=0.525810, ODE φ=1.365673\n",
      "Epoch 7: Total=0.417597, Data=0.251146, ODE ω=0.583335, ODE φ=1.090333\n",
      "Epoch 8: Total=0.402581, Data=0.243582, ODE ω=0.545091, ODE φ=1.095857\n",
      "Epoch 9: Total=0.387124, Data=0.242794, ODE ω=0.554257, ODE φ=0.973990\n",
      "Epoch 10: Total=0.369097, Data=0.196302, ODE ω=0.552814, ODE φ=0.822364\n"
     ]
    }
   ],
   "source": [
    "model = PINN()\n",
    "optimizer = torch.optim.Adam(model.parameters(), lr=1e-3)\n",
    "criterion = nn.MSELoss()\n",
    "\n",
    "for epoch in range(10):\n",
    "    model.train()\n",
    "    total_loss = 0\n",
    "    for xb, yb in loader:\n",
    "        pred = model(xb)\n",
    "        loss_data = criterion(pred, yb)\n",
    "\n",
    "        ode_loss_omega, ode_loss_phi, d_omega_dt, d_phi_dt = model.physics_loss(xb, X_scaler, y_scaler)\n",
    "        ode_loss = ode_loss_omega + ode_loss_phi\n",
    "\n",
    "        loss = loss_data + 0.1 * ode_loss\n",
    "\n",
    "        optimizer.zero_grad()\n",
    "        loss.backward()\n",
    "        optimizer.step()\n",
    "        total_loss += loss.item()\n",
    "    print(f\"Epoch {epoch+1}: Total={total_loss / len(loader):.6f}, Data={loss_data.item():.6f}, ODE ω={ode_loss_omega.item():.6f}, ODE φ={ode_loss_phi.item():.6f}\")\n"
   ]
  },
  {
   "cell_type": "code",
   "execution_count": null,
   "id": "5e843064-7f7e-4bbe-9293-5b8480b707d7",
   "metadata": {},
   "outputs": [],
   "source": []
  }
 ],
 "metadata": {
  "kernelspec": {
   "display_name": "Python 3 (ipykernel)",
   "language": "python",
   "name": "python3"
  },
  "language_info": {
   "codemirror_mode": {
    "name": "ipython",
    "version": 3
   },
   "file_extension": ".py",
   "mimetype": "text/x-python",
   "name": "python",
   "nbconvert_exporter": "python",
   "pygments_lexer": "ipython3",
   "version": "3.12.10"
  }
 },
 "nbformat": 4,
 "nbformat_minor": 5
}
