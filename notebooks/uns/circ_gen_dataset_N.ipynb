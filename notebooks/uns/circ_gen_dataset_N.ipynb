{
 "cells": [
  {
   "cell_type": "code",
   "execution_count": null,
   "metadata": {
    "id": "vVjCqrOXxj7u"
   },
   "outputs": [],
   "source": [
    "import numpy as np\n",
    "import matplotlib.pyplot as plt\n",
    "from numpy import pi\n",
    "from scipy.integrate import solve_ivp"
   ]
  },
  {
   "cell_type": "code",
   "execution_count": null,
   "metadata": {
    "id": "wNKGG22dy5gh"
   },
   "outputs": [],
   "source": [
    "import astropy.constants as ac\n",
    "\n",
    "#Constants to be used later\n",
    "GMsun = ac.GM_sun.value                                  #G*(Solar Mass)\n",
    "c = ac.c.value                                           #Speed of light in vacuum\n",
    "dsun = GMsun/(c**2)                                      #Natural length scale\n",
    "tsun = GMsun/(c**3)                                      #Natural time scale\n",
    "pc = ac.pc.value                                         #One parsec\n",
    "yr = (365.25)*(24)*(60)*(60)                             #Seconds in one year"
   ]
  },
  {
   "cell_type": "code",
   "execution_count": null,
   "metadata": {
    "id": "V1o1Plcnxt5x"
   },
   "outputs": [],
   "source": [
    "def domg_dt(omg,Mc,eta):\n",
    "  tN_omg=Mc*omg*tsun\n",
    "  nu=1\n",
    "  PN_term=((59/18*eta**(6/5)+13661/2016*eta**(1/5)+34103/18144/\n",
    "  eta**(4/5))*tN_omg**(4/3)*nu**2+4/eta**(3/5)*nu**(3/2)*pi*tN_omg+(-11/4*eta**(3/5)\n",
    "  - 43/336/eta**(2/5))*tN_omg**(2/3)*nu)\n",
    "  res=(96/5*omg**2*tN_omg**(5/3))#*(1+PN_term)\n",
    "  return res\n"
   ]
  },
  {
   "cell_type": "code",
   "execution_count": null,
   "metadata": {
    "colab": {
     "base_uri": "https://localhost:8080/"
    },
    "id": "kS_ntNgF0j3D",
    "outputId": "577d4b00-e7c3-42e0-9c2d-3e99ec7e3db0"
   },
   "outputs": [],
   "source": [
    "domg_dt(1e-9,1e8,0.25)"
   ]
  },
  {
   "cell_type": "code",
   "execution_count": null,
   "metadata": {},
   "outputs": [],
   "source": [
    "sh = int(1e4)\n",
    "\n",
    "# Define low and high bounds for each dimension\n",
    "lows = [0, 0, 1, 10, 0.1]              # Lower bounds: tarr_, phi0_, lomg_0, lM_, eta_\n",
    "highs = [5, 2 * pi, 10, 20, 0.25]       # Upper bounds: tarr_, phi0_, lomg_0, lM_, eta_\n",
    "\n",
    "# Generate 5D uniform random samples in one call\n",
    "samples = np.random.uniform(low=lows, high=highs, size=(sh, 5))"
   ]
  },
  {
   "cell_type": "code",
   "execution_count": null,
   "metadata": {},
   "outputs": [],
   "source": [
    "samples.shape[0]"
   ]
  },
  {
   "cell_type": "code",
   "execution_count": null,
   "metadata": {},
   "outputs": [],
   "source": [
    "tarr=np.linspace(0,5,int(1e3))"
   ]
  },
  {
   "cell_type": "code",
   "execution_count": null,
   "metadata": {},
   "outputs": [],
   "source": [
    "samples[1]"
   ]
  },
  {
   "cell_type": "code",
   "execution_count": null,
   "metadata": {},
   "outputs": [],
   "source": [
    "samples[1][0],samples[1][1],samples[1][2]"
   ]
  },
  {
   "cell_type": "code",
   "execution_count": null,
   "metadata": {
    "id": "-TZ5CizY2HQC"
   },
   "outputs": [],
   "source": [
    "def get_PHI_omg(t0, phi0, omg0, Mc, eta, tarr=None, t_epoch=None):\n",
    "    Mc = Mc * tsun  # Convert Mc to seconds\n",
    "\n",
    "    # Define the system of ODEs\n",
    "    def odes(t, y):\n",
    "        phi, omg = y\n",
    "        dphi_dt = omg\n",
    "        domg_dt_val = domg_dt(omg, Mc, eta)\n",
    "        return [dphi_dt, domg_dt_val]\n",
    "\n",
    "    y0 = [phi0, omg0]\n",
    "\n",
    "    # Handle input cases\n",
    "    if t_epoch is not None:\n",
    "        # Evaluate only at t_epoch\n",
    "        tarr_eval = [t_epoch]\n",
    "        t_span = (t0, t_epoch)\n",
    "    elif tarr is not None:\n",
    "        tarr_eval = tarr\n",
    "        t_span = (tarr[0], tarr[-1])\n",
    "    else:\n",
    "        raise ValueError(\"You must provide either tarr or t_epoch\")\n",
    "\n",
    "    # Solve the ODE\n",
    "    solution = solve_ivp(\n",
    "        fun=odes,\n",
    "        t_span=t_span,\n",
    "        y0=y0,\n",
    "        method='RK45',\n",
    "        t_eval=tarr_eval,\n",
    "        rtol=1e-6,\n",
    "        atol=1e-8\n",
    "    )\n",
    "\n",
    "    phi, omg = solution.y\n",
    "    if t_epoch is not None:\n",
    "        return phi[0], omg[0]  # Single values at epoch\n",
    "    else:\n",
    "        return phi, omg        # Arrays over tarr"
   ]
  },
  {
   "cell_type": "code",
   "execution_count": null,
   "metadata": {},
   "outputs": [],
   "source": [
    "from tqdm import tqdm"
   ]
  },
  {
   "cell_type": "code",
   "execution_count": null,
   "metadata": {},
   "outputs": [],
   "source": [
    "\n",
    "#Defining function for omega(t)\n",
    "def Omega_ext(t, t0, omega0, Mc, eta):\n",
    "    '''\n",
    "    t = time\n",
    "    t0 = reference epoch\n",
    "    omega0 = omega(t0)\n",
    "    M = total mass of the SMBHB\n",
    "    eta = symmetric mass ratio\n",
    "    N = 0, 1, 1.5 or 2 (0--> Newtonian order, 1--> Upto 1PN, 1.5--> Upto 1.5PN, 2--> Upto 2PN)\n",
    "    '''\n",
    "\n",
    "    #Defining some parameters/scaled variables\n",
    "    #Mc = (M)*((eta)**(3/5))\n",
    "    M=Mc/((eta)**(3/5))\n",
    "    tm_ = tsun*M*omega0\n",
    "    tau = 1 - (((256)*((Mc)**(5/3))*((tsun)**(5/3))*((omega0)**(8/3))*(t - t0))/5)\n",
    "\n",
    "    \n",
    "    return omega0/(tau**(3/8))\n",
    "\n",
    "def Phi(t, t0, phi0, omega0, Mc, eta):\n",
    "    '''\n",
    "    t = time\n",
    "    t0 = reference epoch\n",
    "    phi0 = phi(t0)\n",
    "    omega0 = omega(t0)\n",
    "    M = total mass of the SMBHB\n",
    "    eta = symmetric mass ratio\n",
    "    N = 0, 1, 1.5 or 2 (0--> Newtonian order, 1--> Upto 1PN, 1.5--> Upto 1.5PN, 2--> Upto 2PN)\n",
    "    '''\n",
    "\n",
    "    #Defining function for 'indefinite' Phi(omega)\n",
    "    N=0\n",
    "    def phi(t, t0, phi0, omega0, Mc, eta):\n",
    "\n",
    "        #Getting omega(t)\n",
    "        omg = Omega_ext(t, t0, omega0, Mc, eta)\n",
    "\n",
    "        #Defining some parameters/scaled variables\n",
    "        #Mc = (M)*((eta)**(3/5))\n",
    "        tN_omg = tsun*Mc*omg\n",
    "\n",
    "        #Getting phi(t)\n",
    "        \n",
    "        return - 1 / (32 * tN_omg**(5/3))\n",
    "    return phi(t, t0, phi0, omega0, Mc, eta) - phi(t0, t0, phi0, omega0, Mc, eta) + phi0"
   ]
  },
  {
   "cell_type": "code",
   "execution_count": null,
   "metadata": {},
   "outputs": [],
   "source": []
  },
  {
   "cell_type": "code",
   "execution_count": null,
   "metadata": {},
   "outputs": [],
   "source": [
    "results = np.zeros((samples.shape[0], 2))  # shape (1_000_000, 2)\n",
    "\n",
    "for i in tqdm(range(samples.shape[0]), desc=\"Processing samples\"):\n",
    "    t, phi0_, omg0_, Mc_, eta_ = samples[i]\n",
    "\n",
    "    # omg_val=Omega_ext(t, 0, omg0_, Mc_, eta_)\n",
    "    # phi_val=Phi(t, 0, phi0_, omg0_, Mc_, eta_)\n",
    "    phi_val, omg_val = get_PHI_omg(t0=0, phi0=phi0_, omg0=omg0_, Mc=Mc_, eta=eta_, t_epoch=t)\n",
    "    results[i, 0] = phi_val\n",
    "    results[i, 1] = omg_val"
   ]
  },
  {
   "cell_type": "code",
   "execution_count": null,
   "metadata": {},
   "outputs": [],
   "source": [
    "results.shape"
   ]
  },
  {
   "cell_type": "code",
   "execution_count": null,
   "metadata": {},
   "outputs": [],
   "source": [
    "plt.plot(samples[:,0],results[:,0],marker='.',ls='')"
   ]
  },
  {
   "cell_type": "code",
   "execution_count": null,
   "metadata": {},
   "outputs": [],
   "source": [
    "plt.plot(samples[:,0],results[:,1],marker='.',ls='')"
   ]
  },
  {
   "cell_type": "code",
   "execution_count": null,
   "metadata": {},
   "outputs": [],
   "source": [
    "data=np.concatenate([samples, results], axis=1)"
   ]
  },
  {
   "cell_type": "code",
   "execution_count": null,
   "metadata": {},
   "outputs": [],
   "source": [
    "data.shape"
   ]
  },
  {
   "cell_type": "code",
   "execution_count": null,
   "metadata": {},
   "outputs": [],
   "source": [
    "import os\n",
    "outdir=\"testing\"\n",
    "os.makedirs(outdir, exist_ok=True)"
   ]
  },
  {
   "cell_type": "code",
   "execution_count": null,
   "metadata": {
    "id": "83bBt2LLw4dN"
   },
   "outputs": [],
   "source": [
    "import torch\n",
    "data_tensor = torch.from_numpy(data).float()  # Convert to float32 for compatibility\n",
    "\n",
    "# Save the tensor to a .pt file\n",
    "torch.save(data_tensor, f'{outdir}/data.pt')"
   ]
  },
  {
   "cell_type": "code",
   "execution_count": null,
   "metadata": {},
   "outputs": [],
   "source": []
  }
 ],
 "metadata": {
  "colab": {
   "provenance": []
  },
  "kernelspec": {
   "display_name": "Python 3 (ipykernel)",
   "language": "python",
   "name": "python3"
  },
  "language_info": {
   "codemirror_mode": {
    "name": "ipython",
    "version": 3
   },
   "file_extension": ".py",
   "mimetype": "text/x-python",
   "name": "python",
   "nbconvert_exporter": "python",
   "pygments_lexer": "ipython3",
   "version": "3.12.10"
  }
 },
 "nbformat": 4,
 "nbformat_minor": 4
}
