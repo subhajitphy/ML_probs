{
 "cells": [
  {
   "cell_type": "code",
   "execution_count": 8,
   "id": "a30306c1-dfc8-432c-8bf0-c57e62cac663",
   "metadata": {},
   "outputs": [],
   "source": [
    "import torch\n",
    "import torch.nn as nn\n",
    "from torch.utils.data import DataLoader, TensorDataset\n",
    "import numpy as np\n",
    "from scipy.integrate import solve_ivp\n",
    "import matplotlib.pyplot as plt\n",
    "from tqdm import tqdm\n",
    "\n",
    "# Parameters for data generation\n",
    "sh = int(1e4)  # Number of samples\n",
    "\n",
    "# Define low and high bounds for each dimension\n",
    "lows = [0, 0, 1.0, 1.0, 0.1]  # [t, phi0, omega0, Mc, eta]\n",
    "highs = [5, 2 * np.pi, 10.0, 2.0, 0.4]\n",
    "\n",
    "# Sample uniformly from the 5D space\n",
    "samples = np.random.uniform(low=lows, high=highs, size=(sh, 5))\n",
    "results = np.zeros((sh, 2))  # To store [omega(t), phi(t)]\n",
    "\n",
    "# Define the true system\n",
    "def true_system(t, y, Mc, eta):\n",
    "    omega, phi = y\n",
    "    d_omega = -eta * omega + (1 / Mc) * np.sin(phi)\n",
    "    d_phi = omega\n",
    "    return [d_omega, d_phi]\n",
    "def true_system_torch(omega, phi, Mc, eta):\n",
    "    d_omega = -eta * omega + (1 / Mc) * torch.sin(phi)\n",
    "    d_phi = omega\n",
    "    return d_omega, d_phi\n",
    "# Solve the system up to t\n",
    "def get_PHI_omg(t0, phi0, omg0, Mc, eta, t_epoch):\n",
    "    sol = solve_ivp(\n",
    "        true_system,\n",
    "        [t0, t_epoch],\n",
    "        y0=[omg0, phi0],\n",
    "        args=(Mc, eta),\n",
    "        t_eval=[t_epoch],\n",
    "        rtol=1e-9,\n",
    "        atol=1e-9\n",
    "    )\n",
    "    return sol.y[1, 0], sol.y[0, 0]  # phi(t), omega(t)"
   ]
  },
  {
   "cell_type": "code",
   "execution_count": 9,
   "id": "ce09b7e4-5c01-4b96-b0e7-3f56ea3b4f8d",
   "metadata": {},
   "outputs": [
    {
     "name": "stderr",
     "output_type": "stream",
     "text": [
      "Generating data: 100%|███████████████████| 10000/10000 [00:16<00:00, 595.07it/s]\n"
     ]
    }
   ],
   "source": [
    "# Loop over all samples and compute the results\n",
    "for i in tqdm(range(sh), desc=\"Generating data\"):\n",
    "    t, phi0_, omg0_, Mc_, eta_ = samples[i]\n",
    "    phi_val, omg_val = get_PHI_omg(t0=0, phi0=phi0_, omg0=omg0_, Mc=Mc_, eta=eta_, t_epoch=t)\n",
    "    results[i, 0] = omg_val\n",
    "    results[i, 1] = phi_val\n",
    "\n",
    "# Reorder input: [t, Mc, eta, omega0, phi0]\n",
    "X_data = samples[:, [0, 3, 4, 2, 1]]  # [t, Mc, eta, omega0, phi0]\n",
    "Y_data = results  # [omega(t), phi(t)]\n",
    "\n",
    "# Convert to torch tensors (float32)\n",
    "X_data = torch.tensor(X_data, dtype=torch.float32)\n",
    "Y_data = torch.tensor(Y_data, dtype=torch.float32)"
   ]
  },
  {
   "cell_type": "code",
   "execution_count": 10,
   "id": "347461ca-f998-4d52-960e-38dd1d745488",
   "metadata": {},
   "outputs": [],
   "source": [
    "data_tensor = torch.cat([X_data, Y_data], dim=1)\n",
    "torch.save(data_tensor, \"./data_test.pt\")"
   ]
  },
  {
   "cell_type": "code",
   "execution_count": 11,
   "id": "2028c5d8-85c6-4c6f-a4e1-de06ae19a255",
   "metadata": {},
   "outputs": [],
   "source": [
    "# Neural Network Model (PINN)\n",
    "class PINN(nn.Module):\n",
    "    def __init__(self):\n",
    "        super().__init__()\n",
    "        self.net = nn.Sequential(\n",
    "            nn.Linear(5, 64),\n",
    "            nn.Tanh(),\n",
    "            nn.Linear(64, 64),\n",
    "            nn.Tanh(),\n",
    "            nn.Linear(64, 2)  # outputs omega and phi\n",
    "        )\n",
    "\n",
    "    def forward(self, x):\n",
    "        return self.net(x)"
   ]
  },
  {
   "cell_type": "code",
   "execution_count": 15,
   "id": "ea015829-b2a9-4a68-b471-a6d0d910333e",
   "metadata": {},
   "outputs": [],
   "source": [
    "def physics_loss(model, X_batch):\n",
    "    X_batch = X_batch.clone().detach().requires_grad_(True)\n",
    "\n",
    "    t = X_batch[:, 0:1]\n",
    "    Mc = X_batch[:, 1:2]\n",
    "    eta = X_batch[:, 2:3]\n",
    "\n",
    "    y_pred = model(X_batch)\n",
    "    omega_pred = y_pred[:, 0:1]\n",
    "    phi_pred = y_pred[:, 1:2]\n",
    "\n",
    "    d_omega_pred = torch.autograd.grad(\n",
    "        outputs=omega_pred,\n",
    "        inputs=X_batch,\n",
    "        grad_outputs=torch.ones_like(omega_pred),\n",
    "        create_graph=True\n",
    "    )[0][:, 0:1]  # ∂ω/∂t\n",
    "\n",
    "    d_phi_pred = torch.autograd.grad(\n",
    "        outputs=phi_pred,\n",
    "        inputs=X_batch,\n",
    "        grad_outputs=torch.ones_like(phi_pred),\n",
    "        create_graph=True\n",
    "    )[0][:, 0:1]  # ∂φ/∂t\n",
    "\n",
    "    # Calculate true dynamics using Mc and eta\n",
    "    d_omega_true, d_phi_true = true_system_torch(omega_pred, phi_pred, Mc, eta)\n",
    "\n",
    "    loss = ((d_omega_pred - d_omega_true) ** 2).mean() + ((d_phi_pred - d_phi_true) ** 2).mean()\n",
    "    return loss\n"
   ]
  },
  {
   "cell_type": "code",
   "execution_count": 16,
   "id": "94d3e924-5646-4b79-b1e5-83324720ddf9",
   "metadata": {},
   "outputs": [
    {
     "name": "stdout",
     "output_type": "stream",
     "text": [
      "Using device: mps\n"
     ]
    }
   ],
   "source": [
    "device = torch.device(\"mps\" if torch.backends.mps.is_available() else \"cpu\")\n",
    "print(f\"Using device: {device}\")\n",
    "\n",
    "# Load the generated data\n",
    "dataset = TensorDataset(X_data, Y_data)\n",
    "loader = DataLoader(dataset, batch_size=64, shuffle=True)\n",
    "\n",
    "# Initialize the model and optimizer\n",
    "model = PINN().to(device)\n",
    "optimizer = torch.optim.Adam(model.parameters(), lr=1e-3)"
   ]
  },
  {
   "cell_type": "code",
   "execution_count": null,
   "id": "3083ef83-2c42-4cff-a278-531598f9657f",
   "metadata": {},
   "outputs": [
    {
     "name": "stdout",
     "output_type": "stream",
     "text": [
      "Epoch 0: loss = 0.001286\n",
      "Epoch 2: loss = 0.000023\n",
      "Epoch 4: loss = 0.000014\n"
     ]
    }
   ],
   "source": [
    "# Training loop\n",
    "epochs = 200\n",
    "for epoch in range(epochs):\n",
    "    total_loss = 0\n",
    "    for X_batch, Y_batch in loader:\n",
    "        X_batch, Y_batch = X_batch.to(device), Y_batch.to(device)\n",
    "        \n",
    "        optimizer.zero_grad()\n",
    "        loss = physics_loss(model, X_batch)\n",
    "        loss.backward()\n",
    "        optimizer.step()\n",
    "        \n",
    "        total_loss += loss.item()\n",
    "\n",
    "    if epoch % 2 == 0:\n",
    "        print(f\"Epoch {epoch}: loss = {total_loss / len(loader):.6f}\")"
   ]
  },
  {
   "cell_type": "code",
   "execution_count": null,
   "id": "b9a43f78-d06b-4024-91f3-7198eafc4c70",
   "metadata": {},
   "outputs": [],
   "source": []
  },
  {
   "cell_type": "code",
   "execution_count": null,
   "id": "2a2cf770-9600-4154-bd63-2aeedc8bb244",
   "metadata": {},
   "outputs": [],
   "source": []
  }
 ],
 "metadata": {
  "kernelspec": {
   "display_name": "ml",
   "language": "python",
   "name": "ml"
  },
  "language_info": {
   "codemirror_mode": {
    "name": "ipython",
    "version": 3
   },
   "file_extension": ".py",
   "mimetype": "text/x-python",
   "name": "python",
   "nbconvert_exporter": "python",
   "pygments_lexer": "ipython3",
   "version": "3.12.10"
  }
 },
 "nbformat": 4,
 "nbformat_minor": 5
}
