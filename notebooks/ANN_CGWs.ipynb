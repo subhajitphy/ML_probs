{
  "nbformat": 4,
  "nbformat_minor": 0,
  "metadata": {
    "colab": {
      "provenance": [],
      "gpuType": "T4"
    },
    "kernelspec": {
      "name": "python3",
      "display_name": "Python 3"
    },
    "language_info": {
      "name": "python"
    },
    "accelerator": "GPU"
  },
  "cells": [
    {
      "cell_type": "code",
      "execution_count": null,
      "metadata": {
        "id": "cwPX5vDlu8RV"
      },
      "outputs": [],
      "source": [
        "import torch\n",
        "import torch.nn as nn\n",
        "import torch.optim as optim\n",
        "from sklearn.model_selection import train_test_split\n",
        "from torch.utils.data import TensorDataset, DataLoader\n",
        "from sklearn.preprocessing import StandardScaler\n",
        "import numpy as np\n",
        "import astropy.constants as ac\n",
        "import matplotlib.pyplot as plt\n",
        "import os\n",
        "import joblib"
      ]
    },
    {
      "cell_type": "code",
      "source": [
        "# Select device (GPU if available)\n",
        "device = torch.device(\"cuda\" if torch.cuda.is_available() else \"cpu\")\n",
        "print(f\"Using device: {device}\")"
      ],
      "metadata": {
        "colab": {
          "base_uri": "https://localhost:8080/"
        },
        "id": "sH1IyYslwzjf",
        "outputId": "b2417c52-fb87-44ec-bac2-30638831b7f2"
      },
      "execution_count": null,
      "outputs": [
        {
          "output_type": "stream",
          "name": "stdout",
          "text": [
            "Using device: cuda\n"
          ]
        }
      ]
    },
    {
      "cell_type": "code",
      "source": [
        "# Constants\n",
        "GMsun = ac.GM_sun.value  # G*(Solar Mass)\n",
        "c = ac.c.value  # Speed of light in vacuum\n",
        "dsun = GMsun / (c**2)  # Natural length scale\n",
        "tsun = GMsun / (c**3)  # Natural time scale\n",
        "pc = ac.pc.value  # One parsec\n",
        "yr = (365.25) * (24) * (60) * (60)\n",
        "tsun = torch.tensor(tsun)\n",
        "yr = torch.tensor(yr)  # Seconds in one year\n",
        "\n",
        "# Data directory\n",
        "datadir = \"./\"\n",
        "\n",
        "# Load data\n",
        "data_tensor = torch.load(f\"{datadir}/data.pt\")  # Shape: (1_000_000, 7)\n",
        "\n",
        "# Split into inputs (first 5 columns) and outputs (last 2 columns)\n",
        "X_raw = data_tensor[:, :5]  # Shape: (1_000_000, 5)\n",
        "y_raw = data_tensor[:, 5:]  # Shape: (1_000_000, 2)\n",
        "\n",
        "# Move to device safely\n",
        "X_raw = X_raw.clone().detach().to(device)\n",
        "y_raw = y_raw.clone().detach().to(device)\n",
        "\n",
        "# Preprocessing\n",
        "# Scale inputs (X)\n",
        "X_scaler = StandardScaler()\n",
        "X_scaled = X_scaler.fit_transform(X_raw.cpu().numpy())  # sklearn expects CPU numpy arrays\n",
        "X = torch.tensor(X_scaled, dtype=torch.float32).to(device)\n",
        "\n",
        "# Transform outputs y: [log10(omega), phi]\n",
        "y_transformed = torch.stack([\n",
        "    torch.log10(y_raw[:, 0]),  # log10(omega)\n",
        "    y_raw[:, 1]                # phi\n",
        "], dim=1)\n",
        "\n",
        "# Scale outputs (y)\n",
        "y_scaler = StandardScaler()\n",
        "y_scaled = y_scaler.fit_transform(y_transformed.cpu().numpy())\n",
        "y = torch.tensor(y_scaled, dtype=torch.float32).to(device)"
      ],
      "metadata": {
        "id": "MozRRK7ww1sE"
      },
      "execution_count": null,
      "outputs": []
    },
    {
      "cell_type": "code",
      "source": [
        "# Set seed\n",
        "torch.manual_seed(42)\n",
        "\n",
        "# Split into train and test (80-20)\n",
        "X_train, X_test, y_train, y_test = train_test_split(X, y, test_size=0.2, random_state=42)\n",
        "\n",
        "# Wrap in TensorDataset and DataLoader\n",
        "batch_size = 1024\n",
        "train_dataset = TensorDataset(X_train, y_train)\n",
        "test_dataset = TensorDataset(X_test, y_test)\n",
        "train_loader = DataLoader(train_dataset, batch_size=batch_size, shuffle=True)\n",
        "test_loader = DataLoader(test_dataset, batch_size=batch_size)"
      ],
      "metadata": {
        "id": "g19mq9Frw5et"
      },
      "execution_count": null,
      "outputs": []
    },
    {
      "cell_type": "code",
      "source": [
        "# Define ANN model\n",
        "class ANN(nn.Module):\n",
        "    def __init__(self, input_size=5, hidden_size=64, output_size=2, num_hidden=4):\n",
        "        super(ANN, self).__init__()\n",
        "        layers = [nn.Linear(input_size, hidden_size), nn.ReLU()]\n",
        "        for _ in range(num_hidden - 1):\n",
        "            layers += [nn.Linear(hidden_size, hidden_size), nn.ReLU()]\n",
        "        layers.append(nn.Linear(hidden_size, output_size))\n",
        "        self.model = nn.Sequential(*layers)\n",
        "\n",
        "    def forward(self, x):\n",
        "        return self.model(x)\n",
        "\n",
        "# Instantiate model, loss, optimizer, and scheduler\n",
        "model = ANN().to(device)\n",
        "criterion = nn.MSELoss()\n",
        "optimizer = optim.Adam(model.parameters(), lr=1e-3)\n",
        "scheduler = optim.lr_scheduler.StepLR(optimizer, step_size=20, gamma=0.1)  # Decay LR by 0.1 every 20 epochs"
      ],
      "metadata": {
        "id": "NOHjCGjIw89g"
      },
      "execution_count": null,
      "outputs": []
    },
    {
      "cell_type": "code",
      "source": [
        "# Training loop with validation\n",
        "num_epochs = 100\n",
        "train_losses = []\n",
        "val_losses = []\n",
        "\n",
        "for epoch in range(num_epochs):\n",
        "    model.train()\n",
        "    epoch_loss = 0\n",
        "    for batch_X, batch_y in train_loader:\n",
        "        optimizer.zero_grad()\n",
        "        predictions = model(batch_X)\n",
        "        loss = criterion(predictions, batch_y)\n",
        "        loss.backward()\n",
        "        optimizer.step()\n",
        "        epoch_loss += loss.item()\n",
        "\n",
        "    # Store training loss\n",
        "    train_loss = epoch_loss / len(train_loader)\n",
        "    train_losses.append(train_loss)\n",
        "\n",
        "    # Validation\n",
        "    model.eval()\n",
        "    val_loss = 0\n",
        "    with torch.no_grad():\n",
        "        for X_batch, y_batch in test_loader:\n",
        "            val_predictions = model(X_batch)\n",
        "            val_loss += criterion(val_predictions, y_batch).item() * X_batch.size(0)\n",
        "    val_loss /= len(test_dataset)\n",
        "    val_losses.append(val_loss)\n",
        "\n",
        "    # Step the scheduler\n",
        "    scheduler.step()\n",
        "    if epoch % 10 == 0:\n",
        "    # Print progress\n",
        "      print(f\"Epoch {epoch+1}/{num_epochs}, Train Loss: {train_loss:.6f}, Val Loss: {val_loss:.6f}\")"
      ],
      "metadata": {
        "colab": {
          "base_uri": "https://localhost:8080/"
        },
        "id": "osVJethvw_qm",
        "outputId": "b0dfe105-8cdd-43b3-b4c9-193783d3fa62"
      },
      "execution_count": 8,
      "outputs": [
        {
          "output_type": "stream",
          "name": "stdout",
          "text": [
            "Epoch 1/100, Train Loss: 0.000204, Val Loss: 0.000156\n",
            "Epoch 11/100, Train Loss: 0.000144, Val Loss: 0.000351\n",
            "Epoch 21/100, Train Loss: 0.000024, Val Loss: 0.000101\n",
            "Epoch 31/100, Train Loss: 0.000021, Val Loss: 0.000018\n",
            "Epoch 41/100, Train Loss: 0.000014, Val Loss: 0.000012\n",
            "Epoch 51/100, Train Loss: 0.000013, Val Loss: 0.000012\n",
            "Epoch 61/100, Train Loss: 0.000013, Val Loss: 0.000012\n",
            "Epoch 71/100, Train Loss: 0.000013, Val Loss: 0.000012\n",
            "Epoch 81/100, Train Loss: 0.000013, Val Loss: 0.000012\n",
            "Epoch 91/100, Train Loss: 0.000013, Val Loss: 0.000012\n"
          ]
        }
      ]
    },
    {
      "cell_type": "code",
      "source": [
        "# Plot training and validation losses\n",
        "plt.figure(figsize=(10, 6))\n",
        "plt.plot(range(1, num_epochs + 1), train_losses, label='Training Loss', marker='.')\n",
        "plt.plot(range(1, num_epochs + 1), val_losses, label='Validation Loss', marker='.')\n",
        "plt.xlabel('Epoch')\n",
        "plt.ylabel('MSE Loss')\n",
        "plt.title('Training and Validation Loss Over Epochs')\n",
        "plt.legend()\n",
        "plt.grid(True)"
      ],
      "metadata": {
        "id": "jz60tT2lxC2m",
        "colab": {
          "base_uri": "https://localhost:8080/",
          "height": 564
        },
        "outputId": "cdd0dac8-9dfb-4605-8cfe-86bf7ea6da36"
      },
      "execution_count": 9,
      "outputs": [
        {
          "output_type": "display_data",
          "data": {
            "text/plain": [
              "<Figure size 1000x600 with 1 Axes>"
            ],
            "image/png": "[encoded data removed]"
          },
          "metadata": {}
        }
      ]
    },
    {
      "cell_type": "code",
      "source": [
        "def predict_omega_phi_c(input_tensor, batch_size=1024):\n",
        "    \"\"\"\n",
        "    Predicts omega and phi for either a single sample or full input tensor using the trained ANN model.\n",
        "\n",
        "    Parameters:\n",
        "    input_tensor (torch.Tensor): Shape (5,) for a single sample, or (1e6, 5) for full data\n",
        "    batch_size (int): Number of samples per batch for efficient processing (used for full tensor)\n",
        "\n",
        "    Returns:\n",
        "    tuple:\n",
        "        - For single sample (shape (5,)): (omega, phi) as scalars\n",
        "        - For full tensor (shape (1e6, 5)): (omega, phi) as tensors of shape (1e6,)\n",
        "    \"\"\"\n",
        "    model.eval()\n",
        "\n",
        "    # Check the shape of the input tensor\n",
        "    if input_tensor.dim() == 1 and input_tensor.shape[0] == 5:\n",
        "        # Single sample: shape (5,)\n",
        "        # Reshape to (1, 5) for the model\n",
        "        input_tensor = input_tensor.reshape(1, -1)  # Shape: (1, 5)\n",
        "\n",
        "        # Move to CPU for scaling\n",
        "        input_cpu = input_tensor.cpu()\n",
        "\n",
        "        # Scale input\n",
        "        input_scaled = X_scaler.transform(input_cpu)\n",
        "\n",
        "        # Convert back to tensor and move to device\n",
        "        input_scaled = torch.tensor(input_scaled, dtype=torch.float32).to(device)\n",
        "\n",
        "        # Predict\n",
        "        with torch.no_grad():\n",
        "            output_scaled = model(input_scaled)\n",
        "\n",
        "        # Move to CPU for inverse scaling\n",
        "        output_cpu = output_scaled.cpu()\n",
        "\n",
        "        # Inverse scale\n",
        "        output_transformed = y_scaler.inverse_transform(output_cpu)\n",
        "\n",
        "        # Convert back to tensor (on CPU)\n",
        "        output_transformed = torch.tensor(output_transformed, dtype=torch.float32)\n",
        "\n",
        "        # Convert log10(omega) back to omega and extract phi\n",
        "        omega = output_transformed[0, 0]  # Scalar\n",
        "        phi = output_transformed[0, 1]          # Scalar\n",
        "\n",
        "        return omega.item(), phi.item()  # Return as Python scalars\n",
        "\n",
        "    elif input_tensor.dim() == 2 and input_tensor.shape[1] == 5:\n",
        "        # Full tensor: shape (1e6, 5)\n",
        "        num_samples = input_tensor.shape[0]  # 1e6\n",
        "\n",
        "        # Lists to store predictions\n",
        "        omega_list = []\n",
        "        phi_list = []\n",
        "\n",
        "        # Process in batches\n",
        "        for i in range(0, num_samples, batch_size):\n",
        "            # Get the current batch\n",
        "            batch = input_tensor[i:i + batch_size]  # Shape: (batch_size, 5)\n",
        "\n",
        "            # Move to CPU for scaling\n",
        "            batch_cpu = batch.cpu()\n",
        "\n",
        "            # Scale input\n",
        "            batch_scaled = X_scaler.transform(batch_cpu)\n",
        "\n",
        "            # Convert back to tensor and move to device\n",
        "            batch_scaled = torch.tensor(batch_scaled, dtype=torch.float32).to(device)\n",
        "\n",
        "            # Predict\n",
        "            with torch.no_grad():\n",
        "                output_scaled = model(batch_scaled)\n",
        "\n",
        "            # Move to CPU for inverse scaling\n",
        "            output_cpu = output_scaled.cpu()\n",
        "\n",
        "            # Inverse scale\n",
        "            output_transformed = y_scaler.inverse_transform(output_cpu)\n",
        "\n",
        "            # Convert back to tensor (on CPU)\n",
        "            output_transformed = torch.tensor(output_transformed, dtype=torch.float32)\n",
        "\n",
        "            # Convert log10(omega) back to omega and extract phi\n",
        "            omega_batch =output_transformed[:, 0]  # Shape: (batch_size,)\n",
        "            phi_batch = output_transformed[:, 1]          # Shape: (batch_size,)\n",
        "\n",
        "            # Append to lists\n",
        "            omega_list.append(omega_batch)\n",
        "            phi_list.append(phi_batch)\n",
        "\n",
        "        # Concatenate all batches\n",
        "        omega = torch.cat(omega_list, dim=0)  # Shape: (1e6,)\n",
        "        phi = torch.cat(phi_list, dim=0)      # Shape: (1e6,)\n",
        "\n",
        "        return omega, phi\n",
        "\n",
        "    else:\n",
        "        raise ValueError(f\"Expected input shape (5,) or (N, 5), got {input_tensor.shape}\")"
      ],
      "metadata": {
        "id": "W4JYTZIp1LuY"
      },
      "execution_count": 14,
      "outputs": []
    },
    {
      "cell_type": "code",
      "source": [
        "predict_omega_phi_c(X_raw[0])"
      ],
      "metadata": {
        "colab": {
          "base_uri": "https://localhost:8080/"
        },
        "id": "0MG84x7c16Pz",
        "outputId": "775afa39-9274-4257-e267-4ba61b979a7a"
      },
      "execution_count": 15,
      "outputs": [
        {
          "output_type": "execute_result",
          "data": {
            "text/plain": [
              "(-7.203105449676514, 0.9221028685569763)"
            ]
          },
          "metadata": {},
          "execution_count": 15
        }
      ]
    },
    {
      "cell_type": "code",
      "source": [
        "y_transformed[0]"
      ],
      "metadata": {
        "colab": {
          "base_uri": "https://localhost:8080/"
        },
        "id": "sDiggYgU2Itw",
        "outputId": "1c0add1b-a40a-41ab-f4a1-f14b810bd1b8"
      },
      "execution_count": 17,
      "outputs": [
        {
          "output_type": "execute_result",
          "data": {
            "text/plain": [
              "tensor([-7.2080,  0.9654], device='cuda:0')"
            ]
          },
          "metadata": {},
          "execution_count": 17
        }
      ]
    },
    {
      "cell_type": "code",
      "source": [
        "for i in range(5,30,2):\n",
        "  print(predict_omega_phi_c(X_raw[i]),y_transformed[i])"
      ],
      "metadata": {
        "colab": {
          "base_uri": "https://localhost:8080/"
        },
        "id": "Z4dUfCba2O2j",
        "outputId": "15628810-20bb-414a-9723-a3a04c82111f"
      },
      "execution_count": 23,
      "outputs": [
        {
          "output_type": "stream",
          "name": "stdout",
          "text": [
            "(-7.278140068054199, 10.53641128540039) tensor([-7.2790, 10.5618], device='cuda:0')\n",
            "(-7.253994941711426, 9.720613479614258) tensor([-7.2526,  9.7128], device='cuda:0')\n",
            "(-9.929645538330078, 0.39309075474739075) tensor([-9.9302,  0.3935], device='cuda:0')\n",
            "(-9.916400909423828, 0.9836627244949341) tensor([-9.9154,  0.9958], device='cuda:0')\n",
            "(-8.708389282226562, 0.7987698912620544) tensor([-8.7061,  0.7922], device='cuda:0')\n",
            "(-7.229059219360352, 1.6769230365753174) tensor([-7.2283,  1.6838], device='cuda:0')\n",
            "(-9.099663734436035, 0.9277474880218506) tensor([-9.0981,  0.9413], device='cuda:0')\n",
            "(-7.318265914916992, 1.2763839960098267) tensor([-7.3190,  1.2604], device='cuda:0')\n",
            "(-8.775774955749512, 0.513117253780365) tensor([-8.7797,  0.5144], device='cuda:0')\n",
            "(-9.1481294631958, 1.0817070007324219) tensor([-9.1478,  1.0795], device='cuda:0')\n",
            "(-7.006573677062988, 8.65665340423584) tensor([-7.0080,  8.6625], device='cuda:0')\n",
            "(-9.421163558959961, 0.11650700867176056) tensor([-9.4207,  0.1122], device='cuda:0')\n",
            "(-8.465590476989746, 0.12879589200019836) tensor([-8.4657,  0.1344], device='cuda:0')\n"
          ]
        }
      ]
    },
    {
      "cell_type": "code",
      "source": [
        "# store data points\n",
        "import os\n",
        "outdir=\"ANN_ODE_CIRC_t2\"\n",
        "os.makedirs(outdir, exist_ok=True)\n",
        "\n",
        "\n",
        "import joblib\n",
        "\n",
        "# Save scalers\n",
        "joblib.dump(X_scaler, f\"{outdir}/X_scaler.pkl\")\n",
        "joblib.dump(y_scaler, f\"{outdir}/y_scaler.pkl\")\n",
        "\n",
        "torch.save(model.state_dict(), f\"{outdir}/model_weights.pth\")\n",
        "torch.save(model, f\"{outdir}/model_full.pth\")"
      ],
      "metadata": {
        "id": "H8OZk1yP37al"
      },
      "execution_count": 24,
      "outputs": []
    },
    {
      "cell_type": "code",
      "source": [
        "from google.colab import files\n",
        "import os, shutil\n",
        "\n",
        "def zip_and_download(outdir=\"ANN_ODE_CIRC_t2\"):\n",
        "    \"\"\"\n",
        "    Zips the current directory into <outdir>.zip and downloads it.\n",
        "    Excludes .ipynb_checkpoints and sample_data folders (common in Jupyter/Colab).\n",
        "\n",
        "    Parameters:\n",
        "    - outdir (str): Desired name of the zip file (without .zip extension)\n",
        "    \"\"\"\n",
        "    zip_filename = f\"{outdir}.zip\"\n",
        "    sample_data_path = './sample_data'\n",
        "    if os.path.exists(sample_data_path):\n",
        "        shutil.rmtree(sample_data_path)\n",
        "        print(\"Removed sample_data directory\")\n",
        "\n",
        "    # Remove existing zip if present\n",
        "    if os.path.exists(zip_filename):\n",
        "        os.remove(zip_filename)\n",
        "\n",
        "    # Create the zip archive, excluding .ipynb_checkpoints and sample_data\n",
        "    !zip -r $zip_filename .\n",
        "\n",
        "    # Download the zip file\n",
        "    files.download(zip_filename)\n",
        "\n",
        "# Step 3: Call the function to zip and download\n",
        "zip_and_download(outdir=\"ANN_ODE_CIRC_t2\")"
      ],
      "metadata": {
        "colab": {
          "base_uri": "https://localhost:8080/",
          "height": 442
        },
        "id": "CWgYeQ1X2XI0",
        "outputId": "2adb2f1d-70b9-4ca6-9116-7d33964688f6"
      },
      "execution_count": 34,
      "outputs": [
        {
          "output_type": "stream",
          "name": "stdout",
          "text": [
            "  adding: .config/ (stored 0%)\n",
            "  adding: .config/active_config (stored 0%)\n",
            "  adding: .config/logs/ (stored 0%)\n",
            "  adding: .config/logs/2025.04.30/ (stored 0%)\n",
            "  adding: .config/logs/2025.04.30/13.36.50.566118.log (deflated 58%)\n",
            "  adding: .config/logs/2025.04.30/13.36.58.979052.log (deflated 86%)\n",
            "  adding: .config/logs/2025.04.30/13.36.29.848398.log (deflated 93%)\n",
            "  adding: .config/logs/2025.04.30/13.37.09.510583.log (deflated 56%)\n",
            "  adding: .config/logs/2025.04.30/13.37.00.207659.log (deflated 58%)\n",
            "  adding: .config/logs/2025.04.30/13.37.08.828246.log (deflated 57%)\n",
            "  adding: .config/.last_opt_in_prompt.yaml (stored 0%)\n",
            "  adding: .config/gce (stored 0%)\n",
            "  adding: .config/.last_update_check.json (deflated 23%)\n",
            "  adding: .config/.last_survey_prompt.yaml (stored 0%)\n",
            "  adding: .config/config_sentinel (stored 0%)\n",
            "  adding: .config/hidden_gcloud_config_universe_descriptor_data_cache_configs.db (deflated 97%)\n",
            "  adding: .config/default_configs.db (deflated 98%)\n",
            "  adding: .config/configurations/ (stored 0%)\n",
            "  adding: .config/configurations/config_default (deflated 15%)\n",
            "  adding: ANN_ODE_CIRC_t2/ (stored 0%)\n",
            "  adding: ANN_ODE_CIRC_t2/y_scaler.pkl (deflated 29%)\n",
            "  adding: ANN_ODE_CIRC_t2/X_scaler.pkl (deflated 23%)\n",
            "  adding: ANN_ODE_CIRC_t2/model_full.pth (deflated 13%)\n",
            "  adding: ANN_ODE_CIRC_t2/model_weights.pth (deflated 11%)\n",
            "  adding: data.pt (deflated 6%)\n"
          ]
        },
        {
          "output_type": "display_data",
          "data": {
            "text/plain": [
              "<IPython.core.display.Javascript object>"
            ],
            "application/javascript": [
              "\n",
              "    async function download(id, filename, size) {\n",
              "      if (!google.colab.kernel.accessAllowed) {\n",
              "        return;\n",
              "      }\n",
              "      const div = document.createElement('div');\n",
              "      const label = document.createElement('label');\n",
              "      label.textContent = `Downloading \"${filename}\": `;\n",
              "      div.appendChild(label);\n",
              "      const progress = document.createElement('progress');\n",
              "      progress.max = size;\n",
              "      div.appendChild(progress);\n",
              "      document.body.appendChild(div);\n",
              "\n",
              "      const buffers = [];\n",
              "      let downloaded = 0;\n",
              "\n",
              "      const channel = await google.colab.kernel.comms.open(id);\n",
              "      // Send a message to notify the kernel that we're ready.\n",
              "      channel.send({})\n",
              "\n",
              "      for await (const message of channel.messages) {\n",
              "        // Send a message to notify the kernel that we're ready.\n",
              "        channel.send({})\n",
              "        if (message.buffers) {\n",
              "          for (const buffer of message.buffers) {\n",
              "            buffers.push(buffer);\n",
              "            downloaded += buffer.byteLength;\n",
              "            progress.value = downloaded;\n",
              "          }\n",
              "        }\n",
              "      }\n",
              "      const blob = new Blob(buffers, {type: 'application/binary'});\n",
              "      const a = document.createElement('a');\n",
              "      a.href = window.URL.createObjectURL(blob);\n",
              "      a.download = filename;\n",
              "      div.appendChild(a);\n",
              "      a.click();\n",
              "      div.remove();\n",
              "    }\n",
              "  "
            ]
          },
          "metadata": {}
        },
        {
          "output_type": "display_data",
          "data": {
            "text/plain": [
              "<IPython.core.display.Javascript object>"
            ],
            "application/javascript": [
              "download(\"download_13e1f067-dcda-42e4-8ffd-45b1466d6569\", \"ANN_ODE_CIRC_t2.zip\", 26445971)"
            ]
          },
          "metadata": {}
        }
      ]
    },
    {
      "cell_type": "code",
      "source": [
        "zip_and_download(outdir=\"ANN_ODE_CIRC_t2\")"
      ],
      "metadata": {
        "colab": {
          "base_uri": "https://localhost:8080/",
          "height": 561
        },
        "id": "Cf1ziYIi21ZD",
        "outputId": "0a6f74eb-09f5-4ddc-f9b2-8fdd285414e8"
      },
      "execution_count": 28,
      "outputs": [
        {
          "output_type": "stream",
          "name": "stdout",
          "text": [
            "  adding: .config/ (stored 0%)\n",
            "  adding: .config/active_config (stored 0%)\n",
            "  adding: .config/logs/ (stored 0%)\n",
            "  adding: .config/logs/2025.04.30/ (stored 0%)\n",
            "  adding: .config/logs/2025.04.30/13.36.50.566118.log (deflated 58%)\n",
            "  adding: .config/logs/2025.04.30/13.36.58.979052.log (deflated 86%)\n",
            "  adding: .config/logs/2025.04.30/13.36.29.848398.log (deflated 93%)\n",
            "  adding: .config/logs/2025.04.30/13.37.09.510583.log (deflated 56%)\n",
            "  adding: .config/logs/2025.04.30/13.37.00.207659.log (deflated 58%)\n",
            "  adding: .config/logs/2025.04.30/13.37.08.828246.log (deflated 57%)\n",
            "  adding: .config/.last_opt_in_prompt.yaml (stored 0%)\n",
            "  adding: .config/gce (stored 0%)\n",
            "  adding: .config/.last_update_check.json (deflated 23%)\n",
            "  adding: .config/.last_survey_prompt.yaml (stored 0%)\n",
            "  adding: .config/config_sentinel (stored 0%)\n",
            "  adding: .config/hidden_gcloud_config_universe_descriptor_data_cache_configs.db (deflated 97%)\n",
            "  adding: .config/default_configs.db (deflated 98%)\n",
            "  adding: .config/configurations/ (stored 0%)\n",
            "  adding: .config/configurations/config_default (deflated 15%)\n",
            "  adding: ANN_ODE_CIRC_t2/ (stored 0%)\n",
            "  adding: ANN_ODE_CIRC_t2/y_scaler.pkl (deflated 29%)\n",
            "  adding: ANN_ODE_CIRC_t2/X_scaler.pkl (deflated 23%)\n",
            "  adding: ANN_ODE_CIRC_t2/model_full.pth (deflated 13%)\n",
            "  adding: ANN_ODE_CIRC_t2/model_weights.pth (deflated 11%)\n",
            "  adding: data.pt (deflated 6%)\n",
            "  adding: sample_data/ (stored 0%)\n",
            "  adding: sample_data/anscombe.json (deflated 83%)\n",
            "  adding: sample_data/README.md (deflated 39%)\n",
            "  adding: sample_data/mnist_test.csv (deflated 88%)\n",
            "  adding: sample_data/california_housing_train.csv (deflated 79%)\n",
            "  adding: sample_data/mnist_train_small.csv (deflated 88%)\n",
            "  adding: sample_data/california_housing_test.csv (deflated 76%)\n"
          ]
        },
        {
          "output_type": "display_data",
          "data": {
            "text/plain": [
              "<IPython.core.display.Javascript object>"
            ],
            "application/javascript": [
              "\n",
              "    async function download(id, filename, size) {\n",
              "      if (!google.colab.kernel.accessAllowed) {\n",
              "        return;\n",
              "      }\n",
              "      const div = document.createElement('div');\n",
              "      const label = document.createElement('label');\n",
              "      label.textContent = `Downloading \"${filename}\": `;\n",
              "      div.appendChild(label);\n",
              "      const progress = document.createElement('progress');\n",
              "      progress.max = size;\n",
              "      div.appendChild(progress);\n",
              "      document.body.appendChild(div);\n",
              "\n",
              "      const buffers = [];\n",
              "      let downloaded = 0;\n",
              "\n",
              "      const channel = await google.colab.kernel.comms.open(id);\n",
              "      // Send a message to notify the kernel that we're ready.\n",
              "      channel.send({})\n",
              "\n",
              "      for await (const message of channel.messages) {\n",
              "        // Send a message to notify the kernel that we're ready.\n",
              "        channel.send({})\n",
              "        if (message.buffers) {\n",
              "          for (const buffer of message.buffers) {\n",
              "            buffers.push(buffer);\n",
              "            downloaded += buffer.byteLength;\n",
              "            progress.value = downloaded;\n",
              "          }\n",
              "        }\n",
              "      }\n",
              "      const blob = new Blob(buffers, {type: 'application/binary'});\n",
              "      const a = document.createElement('a');\n",
              "      a.href = window.URL.createObjectURL(blob);\n",
              "      a.download = filename;\n",
              "      div.appendChild(a);\n",
              "      a.click();\n",
              "      div.remove();\n",
              "    }\n",
              "  "
            ]
          },
          "metadata": {}
        },
        {
          "output_type": "display_data",
          "data": {
            "text/plain": [
              "<IPython.core.display.Javascript object>"
            ],
            "application/javascript": [
              "download(\"download_96bfe57e-550b-485d-a799-21950ead9d5c\", \"ANN_ODE_CIRC_t2.zip\", 33509920)"
            ]
          },
          "metadata": {}
        }
      ]
    },
    {
      "cell_type": "code",
      "source": [],
      "metadata": {
        "id": "9Iaqu6Qu4F_d"
      },
      "execution_count": null,
      "outputs": []
    }
  ]
}