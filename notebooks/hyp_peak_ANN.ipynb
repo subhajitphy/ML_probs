{
 "cells": [
  {
   "cell_type": "code",
   "execution_count": 36,
   "metadata": {
    "id": "iDIJShCtrBDv"
   },
   "outputs": [],
   "source": [
    "import torch, pickle\n",
    "import torch.nn as nn\n",
    "import torch.optim as optim\n",
    "import numpy as np\n",
    "import matplotlib.pyplot as plt\n",
    "from sklearn.model_selection import train_test_split\n",
    "from sklearn.preprocessing import StandardScaler\n",
    "\n",
    "# Load data\n",
    "inp1,inp2,outp=np.load('all_file_nef.pkl', allow_pickle=True)"
   ]
  },
  {
   "cell_type": "code",
   "execution_count": 37,
   "metadata": {
    "id": "EEzUSVaLraM2"
   },
   "outputs": [],
   "source": [
    "from torch.utils.data import DataLoader, TensorDataset"
   ]
  },
  {
   "cell_type": "code",
   "execution_count": 38,
   "metadata": {
    "id": "IF54crexro0D"
   },
   "outputs": [],
   "source": [
    "X = np.vstack([outp, inp2]).T\n",
    "y = inp1.reshape(-1, 1)  # Ensure y is a column vector"
   ]
  },
  {
   "cell_type": "code",
   "execution_count": 39,
   "metadata": {
    "colab": {
     "base_uri": "https://localhost:8080/"
    },
    "id": "hgBBSNoUrs33",
    "outputId": "8cea08af-a199-4bc8-cecf-29b84708e7e3"
   },
   "outputs": [
    {
     "name": "stdout",
     "output_type": "stream",
     "text": [
      "Using device: cuda\n",
      "True\n"
     ]
    }
   ],
   "source": [
    "device = torch.device(\"cuda\" if torch.cuda.is_available() else \"cpu\")\n",
    "print(\"Using device:\", device)\n",
    "print(torch.cuda.is_available())"
   ]
  },
  {
   "cell_type": "code",
   "execution_count": 40,
   "metadata": {
    "id": "xkltGT2jryzJ"
   },
   "outputs": [],
   "source": [
    "class ANN(nn.Module):\n",
    "    def __init__(self, input_size=2, hidden_size=40, output_size=1, num_hidden=8):\n",
    "        super(ANN, self).__init__()\n",
    "        layers = [input_size] + [hidden_size] * num_hidden + [output_size]\n",
    "        modules = []\n",
    "        for i in range(num_hidden):\n",
    "            modules.append(nn.Linear(layers[i], layers[i + 1]))\n",
    "            modules.append(nn.ReLU())\n",
    "        modules.append(nn.Linear(layers[-2], layers[-1]))  # Linear output layer\n",
    "        self.net = nn.Sequential(*modules)\n",
    "\n",
    "    def forward(self, x):\n",
    "        return self.net(x)"
   ]
  },
  {
   "cell_type": "code",
   "execution_count": 40,
   "metadata": {
    "id": "2JWkoHf15zCD"
   },
   "outputs": [],
   "source": []
  },
  {
   "cell_type": "code",
   "execution_count": 41,
   "metadata": {
    "id": "J_GbejGLr7hG"
   },
   "outputs": [],
   "source": [
    "X_train, X_test, y_train, y_test = train_test_split(X, y, test_size=0.2, random_state=42)\n",
    "\n",
    "# Normalize Input & Output\n",
    "scaler_X = StandardScaler()\n",
    "scaler_y = StandardScaler()\n",
    "\n",
    "X_train = scaler_X.fit_transform(X_train)\n",
    "X_test = scaler_X.transform(X_test)\n",
    "\n",
    "y_train = scaler_y.fit_transform(y_train.reshape(-1, 1)).flatten()\n",
    "y_test = scaler_y.transform(y_test.reshape(-1, 1)).flatten()\n",
    "\n",
    "# Convert to Tensors\n",
    "X_train_tensor = torch.tensor(X_train, dtype=torch.float32)\n",
    "X_test_tensor = torch.tensor(X_test, dtype=torch.float32)\n",
    "y_train_tensor = torch.tensor(y_train, dtype=torch.float32).unsqueeze(1)\n",
    "y_test_tensor = torch.tensor(y_test, dtype=torch.float32).unsqueeze(1)"
   ]
  },
  {
   "cell_type": "code",
   "execution_count": 42,
   "metadata": {
    "id": "zoeeDfGgsSXh"
   },
   "outputs": [],
   "source": [
    "# Move to GPU if available\n",
    "device = torch.device(\"cuda\" if torch.cuda.is_available() else \"cpu\")\n",
    "X_train_tensor, y_train_tensor = X_train_tensor.to(device), y_train_tensor.to(device)\n",
    "X_test_tensor, y_test_tensor = X_test_tensor.to(device), y_test_tensor.to(device)"
   ]
  },
  {
   "cell_type": "code",
   "execution_count": 43,
   "metadata": {
    "id": "bPlaGFWEsTip"
   },
   "outputs": [],
   "source": [
    "batch_size = int(1024/2)\n",
    "train_dataset = TensorDataset(X_train_tensor, y_train_tensor)\n",
    "train_loader = DataLoader(train_dataset, batch_size=batch_size, shuffle=True)"
   ]
  },
  {
   "cell_type": "code",
   "execution_count": 44,
   "metadata": {
    "id": "lvvvVi1_soMR"
   },
   "outputs": [],
   "source": [
    "model = ANN().to(device)\n",
    "\n",
    "# Define Loss Function and Optimizer\n",
    "criterion = nn.MSELoss()  # Mean Squared Error Loss for regression\n",
    "optimizer = optim.Adam(model.parameters(), lr=0.001)\n",
    "scheduler = optim.lr_scheduler.StepLR(optimizer, step_size=5, gamma=0.5)"
   ]
  },
  {
   "cell_type": "code",
   "execution_count": 45,
   "metadata": {
    "colab": {
     "base_uri": "https://localhost:8080/"
    },
    "id": "wlVA4RtW51d0",
    "outputId": "559cae08-8408-482d-a952-e1cef40bab44"
   },
   "outputs": [
    {
     "data": {
      "text/plain": [
       "ANN(\n",
       "  (net): Sequential(\n",
       "    (0): Linear(in_features=2, out_features=40, bias=True)\n",
       "    (1): ReLU()\n",
       "    (2): Linear(in_features=40, out_features=40, bias=True)\n",
       "    (3): ReLU()\n",
       "    (4): Linear(in_features=40, out_features=40, bias=True)\n",
       "    (5): ReLU()\n",
       "    (6): Linear(in_features=40, out_features=40, bias=True)\n",
       "    (7): ReLU()\n",
       "    (8): Linear(in_features=40, out_features=40, bias=True)\n",
       "    (9): ReLU()\n",
       "    (10): Linear(in_features=40, out_features=40, bias=True)\n",
       "    (11): ReLU()\n",
       "    (12): Linear(in_features=40, out_features=40, bias=True)\n",
       "    (13): ReLU()\n",
       "    (14): Linear(in_features=40, out_features=40, bias=True)\n",
       "    (15): ReLU()\n",
       "    (16): Linear(in_features=40, out_features=1, bias=True)\n",
       "  )\n",
       ")"
      ]
     },
     "execution_count": 45,
     "metadata": {},
     "output_type": "execute_result"
    }
   ],
   "source": [
    "model.load_state_dict(torch.load(\"model_weights_inv.pth\"))\n",
    "model.eval()  # Set to evaluation mode"
   ]
  },
  {
   "cell_type": "code",
   "execution_count": 10,
   "metadata": {
    "colab": {
     "base_uri": "https://localhost:8080/"
    },
    "id": "foF3AOQvtnuH",
    "outputId": "c611bca6-1c8c-436f-a462-8d29ab209c4e"
   },
   "outputs": [
    {
     "name": "stdout",
     "output_type": "stream",
     "text": [
      "Epoch 1/20, Train Loss: 0.027337, Val Loss: 0.000052\n",
      "Epoch 2/20, Train Loss: 0.000094, Val Loss: 0.000034\n",
      "Epoch 3/20, Train Loss: 0.000085, Val Loss: 0.000039\n",
      "Epoch 4/20, Train Loss: 0.000069, Val Loss: 0.000018\n",
      "Epoch 5/20, Train Loss: 0.000064, Val Loss: 0.000112\n",
      "Epoch 6/20, Train Loss: 0.000013, Val Loss: 0.000012\n",
      "Epoch 7/20, Train Loss: 0.000021, Val Loss: 0.000022\n",
      "Epoch 8/20, Train Loss: 0.000020, Val Loss: 0.000007\n",
      "Epoch 9/20, Train Loss: 0.000019, Val Loss: 0.000058\n",
      "Epoch 10/20, Train Loss: 0.000018, Val Loss: 0.000007\n",
      "Epoch 11/20, Train Loss: 0.000006, Val Loss: 0.000006\n",
      "Epoch 12/20, Train Loss: 0.000008, Val Loss: 0.000007\n",
      "Epoch 13/20, Train Loss: 0.000008, Val Loss: 0.000008\n",
      "Epoch 14/20, Train Loss: 0.000008, Val Loss: 0.000005\n",
      "Epoch 15/20, Train Loss: 0.000007, Val Loss: 0.000006\n",
      "Epoch 16/20, Train Loss: 0.000004, Val Loss: 0.000004\n",
      "Epoch 17/20, Train Loss: 0.000005, Val Loss: 0.000005\n",
      "Epoch 18/20, Train Loss: 0.000004, Val Loss: 0.000004\n",
      "Epoch 19/20, Train Loss: 0.000004, Val Loss: 0.000004\n",
      "Epoch 20/20, Train Loss: 0.000004, Val Loss: 0.000004\n"
     ]
    }
   ],
   "source": [
    "num_epochs = 20\n",
    "train_losses = []\n",
    "val_losses = []\n",
    "\n",
    "for epoch in range(num_epochs):\n",
    "    model.train()\n",
    "    epoch_loss = 0\n",
    "    for batch_X, batch_y in train_loader:\n",
    "        optimizer.zero_grad()\n",
    "        predictions = model(batch_X)\n",
    "        loss = criterion(predictions, batch_y)\n",
    "        loss.backward()\n",
    "        optimizer.step()\n",
    "        epoch_loss += loss.item()\n",
    "\n",
    "    train_losses.append(epoch_loss / len(train_loader))\n",
    "    scheduler.step()\n",
    "\n",
    "    # Validation\n",
    "    model.eval()\n",
    "    with torch.no_grad():\n",
    "        val_predictions = model(X_test_tensor)\n",
    "        val_loss = criterion(val_predictions, y_test_tensor).item()\n",
    "        val_losses.append(val_loss)\n",
    "\n",
    "    print(f\"Epoch {epoch+1}/{num_epochs}, Train Loss: {train_losses[-1]:.6f}, Val Loss: {val_loss:.6f}\")"
   ]
  },
  {
   "cell_type": "code",
   "execution_count": 13,
   "metadata": {
    "colab": {
     "base_uri": "https://localhost:8080/",
     "height": 472
    },
    "id": "tIA6ecBCtuPq",
    "outputId": "5e3f5ae3-2914-4a46-ad9d-c9ba0976dc5e"
   },
   "outputs": [
    {
     "data": {
      "image/png": "[encoded data removed]",
      "text/plain": [
       "<Figure size 640x480 with 1 Axes>"
      ]
     },
     "metadata": {},
     "output_type": "display_data"
    }
   ],
   "source": [
    "plt.plot(range(1, num_epochs + 1), train_losses, label=\"Train Loss\")\n",
    "plt.plot(range(1, num_epochs + 1), val_losses, label=\"Validation Loss\")\n",
    "plt.xlabel(\"Epochs\")\n",
    "plt.ylabel(\"Loss\")\n",
    "plt.legend()\n",
    "plt.title(\"Training & Validation Loss\")\n",
    "#plt.xlim(5,20)\n",
    "plt.show()"
   ]
  },
  {
   "cell_type": "code",
   "execution_count": 46,
   "metadata": {
    "id": "UVZaXN0rvCwh"
   },
   "outputs": [],
   "source": [
    "def predict(new_inputs):\n",
    "    \"\"\"\n",
    "    Predict outputs for new input data.\n",
    "\n",
    "    Parameters:\n",
    "    new_inputs (np.array): Array of shape (n_samples, 2) or (2,)\n",
    "\n",
    "    Returns:\n",
    "    np.array: Predicted outputs in original scale\n",
    "    \"\"\"\n",
    "    model.eval()\n",
    "\n",
    "    new_inputs = np.atleast_2d(new_inputs)  # Ensures shape (n_samples, 2)\n",
    "\n",
    "    if new_inputs.shape[1] != 2:\n",
    "        raise ValueError(\"Each input must have 2 features\")\n",
    "\n",
    "    inputs_scaled = scaler_X.transform(new_inputs)\n",
    "    inputs_tensor = torch.tensor(inputs_scaled, dtype=torch.float32).to(device)\n",
    "\n",
    "    with torch.no_grad():\n",
    "        pred_scaled = model(inputs_tensor)\n",
    "\n",
    "    pred = scaler_y.inverse_transform(pred_scaled.cpu().numpy())\n",
    "    return pred.flatten()  # Returns flat array of shape (n_samples,)"
   ]
  },
  {
   "cell_type": "code",
   "execution_count": 47,
   "metadata": {
    "colab": {
     "base_uri": "https://localhost:8080/"
    },
    "id": "Sw2h_GSFvS28",
    "outputId": "de43c78a-64ee-4736-9ff6-604d225bf802"
   },
   "outputs": [
    {
     "data": {
      "text/plain": [
       "tensor([-7.7000,  1.1000])"
      ]
     },
     "execution_count": 47,
     "metadata": {},
     "output_type": "execute_result"
    }
   ],
   "source": [
    "torch.tensor([-7.7,1.1])"
   ]
  },
  {
   "cell_type": "code",
   "execution_count": 48,
   "metadata": {
    "colab": {
     "base_uri": "https://localhost:8080/"
    },
    "id": "V03jKeup76aK",
    "outputId": "c7ede321-065e-4237-d554-d32c5a6c1fd8"
   },
   "outputs": [
    {
     "data": {
      "text/plain": [
       "array([-8.702637], dtype=float32)"
      ]
     },
     "execution_count": 48,
     "metadata": {},
     "output_type": "execute_result"
    }
   ],
   "source": [
    "predict(torch.tensor([-7.78,1.1]))"
   ]
  },
  {
   "cell_type": "code",
   "execution_count": 41,
   "metadata": {
    "id": "L4uty2GPvV5o"
   },
   "outputs": [],
   "source": [
    "# torch.save(model.state_dict(), 'model_weights_inv.pth')\n",
    "# torch.save(model, 'model_inv.pth')"
   ]
  },
  {
   "cell_type": "code",
   "execution_count": 49,
   "metadata": {
    "id": "NBXdq5rxzdtD"
   },
   "outputs": [],
   "source": [
    "from eval_max import get_max\n",
    "from constants import *\n",
    "from numpy import sqrt\n",
    "def x_to_b_3PN(M0,et,eta,n):\n",
    "    x=(M0*tsun*n)**(2/3)\n",
    "    ww=(sqrt(-1 + et**2)/x - (-6*et**2 - eta + 7*et**2*eta)/(6.*sqrt(-1 + et**2)) +\n",
    "    (x*(738 - 792*et**2 + 1242*et**4 + 69*eta - 690*et**2*eta - 1539*et**4*eta + 17*eta**2 -\n",
    "    58*et**2*eta**2 + 365*et**4*eta**2))/(72.*(-1 + et**2)**1.5) -\n",
    "    (x**2*(-4974480 - 20729520*et**2 + 12383280*et**4 - 13320720*et**6 +\n",
    "    13150620*eta + 47850156*et**2*eta + 3814020*et**4*eta + 18616500*et**6*eta -\n",
    "    348705*pi**2*eta - 1046115*et**2*pi**2*eta - 5646060*eta**2 -\n",
    "    1074780*et**2*eta**2 - 8566740*et**4*eta**2 - 10930500*et**6*eta**2 +\n",
    "    14420*eta**3 + 165900*et**2*eta**3 + 1575420*et**4*eta**3 + 2387140*et**6*eta**3))/\n",
    "    (181440.*(-1 + et**2)**2.5))\n",
    "    return ww\n",
    "\n",
    "\n",
    "def from_n0_to_f(n0, M0, e0):\n",
    "    eta = 1 / 4\n",
    "\n",
    "    x0 = (M0 * n0 * tsun) ** (2 / 3)\n",
    "    b0 = x_to_b_3PN(M0, e0, eta, n0)\n",
    "\n",
    "    return get_max(eta, b0, e0) / (M0 * tsun) / (2 * np.pi)\n",
    "from_n0_to_f_vec = np.vectorize(from_n0_to_f)"
   ]
  },
  {
   "cell_type": "code",
   "execution_count": 50,
   "metadata": {
    "id": "njQVxGBN3FK-"
   },
   "outputs": [],
   "source": [
    "narr=np.logspace(-10,-6.5,100)\n",
    "earr=np.linspace(1.1,2,len(narr))"
   ]
  },
  {
   "cell_type": "code",
   "execution_count": 51,
   "metadata": {
    "id": "eo00YCJc3sHE"
   },
   "outputs": [],
   "source": [
    "res=from_n0_to_f_vec(narr,1e9,earr)"
   ]
  },
  {
   "cell_type": "code",
   "execution_count": 52,
   "metadata": {
    "colab": {
     "base_uri": "https://localhost:8080/"
    },
    "id": "v8akVljd4h9O",
    "outputId": "be1752dd-c5a8-474c-e5b0-d77c185098c2"
   },
   "outputs": [
    {
     "data": {
      "text/plain": [
       "array([-9.07803253, -9.09879312, -9.11501655, -9.12737521, -9.13640562,\n",
       "       -9.142535  , -9.14611625, -9.14744273, -9.14675664, -9.14426465,\n",
       "       -9.1401439 , -9.13454653, -9.12760332, -9.11942802, -9.11012421,\n",
       "       -9.0997777 , -9.08846862, -9.07626753, -9.06323598, -9.04943043,\n",
       "       -9.03490351, -9.01969914, -9.00386065, -8.98742505, -8.97042646,\n",
       "       -8.95289875, -8.93486975, -8.91636623, -8.89741346, -8.87803343,\n",
       "       -8.85824872, -8.83807783, -8.81753952, -8.79665054, -8.77542688,\n",
       "       -8.75388305, -8.73203379, -8.70989186, -8.68746861, -8.66477615,\n",
       "       -8.64182568, -8.61862651, -8.59518905, -8.57152155, -8.54763333,\n",
       "       -8.52353194, -8.49922552, -8.47472103, -8.4500256 , -8.42514559,\n",
       "       -8.40008755, -8.37485746, -8.3494609 , -8.32390307, -8.29818963,\n",
       "       -8.27232529, -8.24631487, -8.22016304, -8.19387405, -8.16745198,\n",
       "       -8.14090127, -8.1142254 , -8.08742844, -8.06051374, -8.03348497,\n",
       "       -8.00634542, -7.97909833, -7.95174698, -7.92429438, -7.89674354,\n",
       "       -7.86909726, -7.84135849, -7.81352998, -7.78561444, -7.75761442,\n",
       "       -7.72953267, -7.70137162, -7.67313394, -7.64482196, -7.61643823,\n",
       "       -7.58798526, -7.55946541, -7.53088118, -7.50223501, -7.47352933,\n",
       "       -7.44476667, -7.41594956, -7.38708049, -7.35816213, -7.3291971 ,\n",
       "       -7.3001882 , -7.27113819, -7.24205005, -7.21292681, -7.18377163,\n",
       "       -7.15458784, -7.12537898, -7.0961487 , -7.06690095, -7.03763986])"
      ]
     },
     "execution_count": 52,
     "metadata": {},
     "output_type": "execute_result"
    }
   ],
   "source": [
    "np.log10(res)"
   ]
  },
  {
   "cell_type": "code",
   "execution_count": 53,
   "metadata": {
    "id": "6XG---T36X4U"
   },
   "outputs": [],
   "source": [
    "predict_vec = np.vectorize(lambda x, y: predict(np.array([x, y]))[0])"
   ]
  },
  {
   "cell_type": "code",
   "execution_count": 54,
   "metadata": {
    "id": "jt46g8GG601J"
   },
   "outputs": [],
   "source": [
    "predictions = predict_vec(np.log10(res), earr)"
   ]
  },
  {
   "cell_type": "code",
   "execution_count": 55,
   "metadata": {
    "colab": {
     "base_uri": "https://localhost:8080/"
    },
    "id": "KNvyaeri69nh",
    "outputId": "a507c7ee-e3e4-41e7-eb72-1e582606332d"
   },
   "outputs": [
    {
     "data": {
      "text/plain": [
       "array([-10.002723 ,  -9.964254 ,  -9.929837 ,  -9.897276 ,  -9.860989 ,\n",
       "        -9.827473 ,  -9.79265  ,  -9.755541 ,  -9.715753 ,  -9.682007 ,\n",
       "        -9.648222 ,  -9.612197 ,  -9.5746355,  -9.535688 ,  -9.503315 ,\n",
       "        -9.47017  ,  -9.434756 ,  -9.400291 ,  -9.364986 ,  -9.328897 ,\n",
       "        -9.292679 ,  -9.261681 ,  -9.229213 ,  -9.191625 ,  -9.152764 ,\n",
       "        -9.113155 ,  -9.077204 ,  -9.044782 ,  -9.011833 ,  -8.978492 ,\n",
       "        -8.943744 ,  -8.907503 ,  -8.871182 ,  -8.834191 ,  -8.798281 ,\n",
       "        -8.763467 ,  -8.72848  ,  -8.692902 ,  -8.657196 ,  -8.623285 ,\n",
       "        -8.589127 ,  -8.551666 ,  -8.51542  ,  -8.481183 ,  -8.4453745,\n",
       "        -8.407672 ,  -8.371265 ,  -8.335956 ,  -8.30347  ,  -8.268853 ,\n",
       "        -8.233921 ,  -8.198548 ,  -8.164568 ,  -8.129911 ,  -8.095842 ,\n",
       "        -8.058712 ,  -8.022045 ,  -7.9837904,  -7.9477897,  -7.9132166,\n",
       "        -7.8785043,  -7.84367  ,  -7.808717 ,  -7.77401  ,  -7.7378864,\n",
       "        -7.7006116,  -7.6665454,  -7.632688 ,  -7.597466 ,  -7.5611353,\n",
       "        -7.5253024,  -7.4893765,  -7.4536886,  -7.4192734,  -7.3845944,\n",
       "        -7.3498344,  -7.3149962,  -7.280082 ,  -7.2450953,  -7.2095456,\n",
       "        -7.173787 ,  -7.1379614,  -7.1020703,  -7.0661173,  -7.0309906,\n",
       "        -6.995204 ,  -6.9596853,  -6.9259696,  -6.8906956,  -6.855375 ,\n",
       "        -6.8200097,  -6.784603 ,  -6.749158 ,  -6.7136774,  -6.6781645,\n",
       "        -6.6426234,  -6.607056 ,  -6.571468 ,  -6.5358615,  -6.5007505],\n",
       "      dtype=float32)"
      ]
     },
     "execution_count": 55,
     "metadata": {},
     "output_type": "execute_result"
    }
   ],
   "source": [
    "predictions"
   ]
  },
  {
   "cell_type": "code",
   "execution_count": 29,
   "metadata": {
    "colab": {
     "base_uri": "https://localhost:8080/"
    },
    "id": "aoHVMtaB6G7t",
    "outputId": "a6b29569-b567-4c5e-a933-52e9e799cb3c"
   },
   "outputs": [
    {
     "data": {
      "text/plain": [
       "array([-10.        ,  -9.96464646,  -9.92929293,  -9.89393939,\n",
       "        -9.85858586,  -9.82323232,  -9.78787879,  -9.75252525,\n",
       "        -9.71717172,  -9.68181818,  -9.64646465,  -9.61111111,\n",
       "        -9.57575758,  -9.54040404,  -9.50505051,  -9.46969697,\n",
       "        -9.43434343,  -9.3989899 ,  -9.36363636,  -9.32828283,\n",
       "        -9.29292929,  -9.25757576,  -9.22222222,  -9.18686869,\n",
       "        -9.15151515,  -9.11616162,  -9.08080808,  -9.04545455,\n",
       "        -9.01010101,  -8.97474747,  -8.93939394,  -8.9040404 ,\n",
       "        -8.86868687,  -8.83333333,  -8.7979798 ,  -8.76262626,\n",
       "        -8.72727273,  -8.69191919,  -8.65656566,  -8.62121212,\n",
       "        -8.58585859,  -8.55050505,  -8.51515152,  -8.47979798,\n",
       "        -8.44444444,  -8.40909091,  -8.37373737,  -8.33838384,\n",
       "        -8.3030303 ,  -8.26767677,  -8.23232323,  -8.1969697 ,\n",
       "        -8.16161616,  -8.12626263,  -8.09090909,  -8.05555556,\n",
       "        -8.02020202,  -7.98484848,  -7.94949495,  -7.91414141,\n",
       "        -7.87878788,  -7.84343434,  -7.80808081,  -7.77272727,\n",
       "        -7.73737374,  -7.7020202 ,  -7.66666667,  -7.63131313,\n",
       "        -7.5959596 ,  -7.56060606,  -7.52525253,  -7.48989899,\n",
       "        -7.45454545,  -7.41919192,  -7.38383838,  -7.34848485,\n",
       "        -7.31313131,  -7.27777778,  -7.24242424,  -7.20707071,\n",
       "        -7.17171717,  -7.13636364,  -7.1010101 ,  -7.06565657,\n",
       "        -7.03030303,  -6.99494949,  -6.95959596,  -6.92424242,\n",
       "        -6.88888889,  -6.85353535,  -6.81818182,  -6.78282828,\n",
       "        -6.74747475,  -6.71212121,  -6.67676768,  -6.64141414,\n",
       "        -6.60606061,  -6.57070707,  -6.53535354,  -6.5       ])"
      ]
     },
     "execution_count": 29,
     "metadata": {},
     "output_type": "execute_result"
    }
   ],
   "source": [
    "np.log10(narr)"
   ]
  },
  {
   "cell_type": "code",
   "execution_count": 56,
   "metadata": {
    "colab": {
     "base_uri": "https://localhost:8080/",
     "height": 447
    },
    "id": "Hq6MP1US7Bq2",
    "outputId": "6b1574ca-2033-4265-c787-c59c187d418e"
   },
   "outputs": [
    {
     "data": {
      "text/plain": [
       "[<matplotlib.lines.Line2D at 0x7c8dd93285d0>]"
      ]
     },
     "execution_count": 56,
     "metadata": {},
     "output_type": "execute_result"
    },
    {
     "data": {
      "image/png": "[encoded data removed]",
      "text/plain": [
       "<Figure size 640x480 with 1 Axes>"
      ]
     },
     "metadata": {},
     "output_type": "display_data"
    }
   ],
   "source": [
    "plt.plot(np.log10(narr),predictions)"
   ]
  },
  {
   "cell_type": "code",
   "execution_count": null,
   "metadata": {
    "id": "3qEX2TJM8ilb"
   },
   "outputs": [],
   "source": []
  }
 ],
 "metadata": {
  "accelerator": "GPU",
  "colab": {
   "gpuType": "T4",
   "provenance": []
  },
  "kernelspec": {
   "display_name": "Python 3 (ipykernel)",
   "language": "python",
   "name": "python3"
  },
  "language_info": {
   "codemirror_mode": {
    "name": "ipython",
    "version": 3
   },
   "file_extension": ".py",
   "mimetype": "text/x-python",
   "name": "python",
   "nbconvert_exporter": "python",
   "pygments_lexer": "ipython3",
   "version": "3.12.10"
  }
 },
 "nbformat": 4,
 "nbformat_minor": 4
}
