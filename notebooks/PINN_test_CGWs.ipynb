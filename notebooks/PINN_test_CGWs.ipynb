{
  "cells": [
    {
      "cell_type": "code",
      "execution_count": null,
      "metadata": {
        "colab": {
          "base_uri": "https://localhost:8080/"
        },
        "id": "SUn_qIOUTSZa",
        "outputId": "b3a235f2-0da8-4f08-9784-7fb0a0ccc72d"
      },
      "outputs": [
        {
          "output_type": "stream",
          "name": "stdout",
          "text": [
            "Using device: cuda\n"
          ]
        }
      ],
      "source": [
        "import torch\n",
        "import torch.nn as nn\n",
        "import torch.optim as optim\n",
        "from sklearn.model_selection import train_test_split\n",
        "import matplotlib.pyplot as plt\n",
        "import numpy as np, os, sys\n",
        "from torch import autograd\n",
        "# Set random seed for reproducibility\n",
        "torch.manual_seed(42)\n",
        "np.random.seed(42)\n",
        "from sklearn.preprocessing import StandardScaler\n",
        "# Select device (GPU if available)\n",
        "#device = torch.device(\"mps\") if torch.backends.mps.is_available() else torch.device(\"cpu\")\n",
        "device = torch.device(\"cuda\" if torch.cuda.is_available() else \"cpu\")\n",
        "print(f\"Using device: {device}\")"
      ]
    },
    {
      "cell_type": "code",
      "execution_count": null,
      "metadata": {
        "colab": {
          "base_uri": "https://localhost:8080/"
        },
        "id": "ZnnD0EkpU_Wv",
        "outputId": "a3fbe5cb-306b-4b2f-bc69-3ea85c5f065f"
      },
      "outputs": [
        {
          "output_type": "stream",
          "name": "stdout",
          "text": [
            "True\n"
          ]
        }
      ],
      "source": [
        "print(torch.cuda.is_available())\n",
        "#print(torch.backends.mps.is_available())"
      ]
    },
    {
      "cell_type": "code",
      "execution_count": null,
      "metadata": {
        "id": "Li8_rv8my4Ox"
      },
      "outputs": [],
      "source": [
        "import astropy.constants as ac\n",
        "\n",
        "#Constants to be used later\n",
        "GMsun = ac.GM_sun.value                                  #G*(Solar Mass)\n",
        "c = ac.c.value                                           #Speed of light in vacuum\n",
        "dsun = GMsun/(c**2)                                      #Natural length scale\n",
        "tsun = GMsun/(c**3)                                      #Natural time scale\n",
        "pc = ac.pc.value                                         #One parsec\n",
        "yr = (365.25)*(24)*(60)*(60)\n",
        "tsun=torch.tensor(tsun)\n",
        "yr=torch.tensor(yr)                 #Seconds in one year"
      ]
    },
    {
      "cell_type": "code",
      "execution_count": null,
      "metadata": {
        "id": "ejgo5jgeOigO"
      },
      "outputs": [],
      "source": [
        "datadir=\"./\""
      ]
    },
    {
      "cell_type": "code",
      "execution_count": null,
      "metadata": {
        "colab": {
          "base_uri": "https://localhost:8080/"
        },
        "id": "RuVBEgjFWR6H",
        "outputId": "feab5ce9-701c-4713-bfbc-fbc6000e4878"
      },
      "outputs": [
        {
          "output_type": "stream",
          "name": "stdout",
          "text": [
            "X shape: torch.Size([1000000, 5]), y shape: torch.Size([1000000, 2])\n",
            "t_train sample: tensor([-1.6287], device='cuda:0'), phi_exact_train sample: tensor([-0.3551], device='cuda:0')\n"
          ]
        }
      ],
      "source": [
        "data_tensor = torch.load(f\"{datadir}/data.pt\")  # Shape: (1_000_000, 7)\n",
        "\n",
        "# Split into inputs (first 5 columns) and outputs (last 2 columns)\n",
        "X_raw = data_tensor[:, :5]  # Shape: (1_000_000, 5)\n",
        "y_raw = data_tensor[:, 5:]  # Shape: (1_000_000, 2)\n",
        "\n",
        "# Move to device safely\n",
        "X_raw = X_raw.clone().detach().to(device)\n",
        "y_raw = y_raw.clone().detach().to(device)\n",
        "\n",
        "# --- Preprocessing ---\n",
        "\n",
        "# Scale inputs (X)\n",
        "X_scaler = StandardScaler()\n",
        "X_scaled = X_scaler.fit_transform(X_raw.cpu().numpy())  # sklearn expects CPU numpy arrays\n",
        "X = torch.tensor(X_scaled, dtype=torch.float32).to(device)\n",
        "\n",
        "# Transform outputs y: [log10(omega), phi]\n",
        "y_transformed = torch.stack([\n",
        "    torch.log10(y_raw[:, 0]),  # log10(omega)\n",
        "    y_raw[:, 1]                # phi\n",
        "], dim=1)\n",
        "\n",
        "# Scale outputs (y)\n",
        "y_scaler = StandardScaler()\n",
        "y_scaled = y_scaler.fit_transform(y_transformed.cpu().numpy())\n",
        "y = torch.tensor(y_scaled, dtype=torch.float32).to(device)\n",
        "\n",
        "# --- Prepare Training Variables ---\n",
        "\n",
        "# Inputs\n",
        "t_train = X[:, 0:1]\n",
        "phi0_train = X[:, 1:2]\n",
        "omg0_train = X[:, 2:3]\n",
        "Mc_train = X[:, 3:4]\n",
        "eta_train = X[:, 4:5]\n",
        "\n",
        "# Ground truth outputs\n",
        "phi_exact_train = y[:, 1:2]\n",
        "omg_exact_train = y[:, 0:1]\n",
        "\n",
        "# --- Sanity Check ---\n",
        "print(f\"X shape: {X.shape}, y shape: {y.shape}\")\n",
        "print(f\"t_train sample: {t_train[0]}, phi_exact_train sample: {phi_exact_train[0]}\")"
      ]
    },
    {
      "cell_type": "code",
      "execution_count": null,
      "metadata": {
        "id": "qIGW_I97W4bd"
      },
      "outputs": [],
      "source": [
        "\n",
        "# Define PINN model\n",
        "class PINN(nn.Module):\n",
        "    def __init__(self, input_size=5, hidden_size=64, output_size=2, num_hidden=4):\n",
        "        super(PINN, self).__init__()\n",
        "        layers = [input_size] + [hidden_size] * num_hidden + [output_size]\n",
        "        modules = []\n",
        "        for i in range(len(layers) - 2):\n",
        "            modules.append(nn.Linear(layers[i], layers[i + 1]))\n",
        "            modules.append(nn.ReLU())\n",
        "        modules.append(nn.Linear(layers[-2], layers[-1]))  # Output layer\n",
        "        self.net = nn.Sequential(*modules)\n",
        "\n",
        "    def forward(self, t, phi0, omg0, Mc, eta):\n",
        "        x = torch.cat([var.expand(t.shape[0], 1) for var in [t.view(-1, 1), phi0, omg0, Mc, eta]], dim=1)\n",
        "        return self.net(x)\n",
        "    # def forward(self, X):\n",
        "    #     \"\"\"\n",
        "    #     Forward pass: input shape (batch_size, 1) -> output shape (batch_size, 1)\n",
        "    #     \"\"\"\n",
        "    #     return self.net(X)"
      ]
    },
    {
      "cell_type": "code",
      "execution_count": null,
      "metadata": {
        "id": "QAb5hqkjfWLS"
      },
      "outputs": [],
      "source": [
        "def domg_dt(omg, Mc, eta):\n",
        "    tN_omg = Mc * omg * tsun\n",
        "    nu = 1.0\n",
        "    PN_term = (\n",
        "        (59/18)*eta**(6/5) + (13661/2016)*eta**(1/5) + (34103/18144)*eta**(-4/5)\n",
        "    ) * tN_omg**(4/3) * nu**2 + \\\n",
        "    (4/eta**(3/5)) * nu**(3/2) * torch.pi * tN_omg + \\\n",
        "    (-11/4*eta**(3/5) - 43/336*eta**(-2/5)) * tN_omg**(2/3) * nu\n",
        "\n",
        "    return (96/5) * omg**2 * tN_omg**(5/3) * (1 + PN_term)"
      ]
    },
    {
      "cell_type": "code",
      "execution_count": null,
      "metadata": {
        "id": "_fTF0BO2iXz6"
      },
      "outputs": [],
      "source": [
        "#Defining function for omega(t)\n",
        "def Omega_ext(t, t0, omega0, Mc, eta, N):\n",
        "    '''\n",
        "    t = time\n",
        "    t0 = reference epoch\n",
        "    omega0 = omega(t0)\n",
        "    M = total mass of the SMBHB\n",
        "    eta = symmetric mass ratio\n",
        "    N = 0, 1, 1.5 or 2 (0--> Newtonian order, 1--> Upto 1PN, 1.5--> Upto 1.5PN, 2--> Upto 2PN)\n",
        "    '''\n",
        "\n",
        "    #Defining some parameters/scaled variables\n",
        "    #Mc = (M)*((eta)**(3/5))\n",
        "    M=Mc/((eta)**(3/5))\n",
        "    tm_ = tsun*M*omega0\n",
        "    tau = 1 - (((256)*((Mc)**(5/3))*((tsun)**(5/3))*((omega0)**(8/3))*(t - t0))/5)\n",
        "\n",
        "    if N==0:\n",
        "        return omega0/(tau**(3/8))\n",
        "\n",
        "    if N==1:\n",
        "        return omega0*( 1 / tau**(3/8) + ((11/8 * eta + 743/672) / tau**(5/8) + (-11/8 * eta - 743/672) / tau**(11/8) ) * tm_**(2/3) )\n",
        "\n",
        "    elif N==1.5:\n",
        "        return omega0*( 1 / tau**(3/8) + ((11/8 * eta + 743/672) / tau**(5/8) + (-11/8 * eta - 743/672) / tau**(11/8) ) * tm_**(2/3) + (12/5 / tau**(11/8) * np.pi - 12/5 / tau**(3/4) * np.pi) * tm_ )\n",
        "\n",
        "    elif N==2:\n",
        "        return omega0*( 1 / tau**(3/8) + ((11/8 * eta + 743/672) / tau**(5/8) + (-11/8 * eta - 743/672) / tau**(11/8) ) * tm_**(2/3) + (12/5 / tau**(11/8) * np.pi - 12/5 / tau**(3/4) * np.pi) * tm_ + ( (371/128 * eta**2 + 56975/16128 * eta + 1855099/903168) / tau**(7/8)\n",
        "        + (-617/192 * eta**2 - 5429/1344 * eta - 3058673/1354752) / tau**(11/8) + (-605/192 * eta**2 - 40865/8064 * eta - 2760245/1354752) / tau**(13/8) + (1331/384 * eta**2 + 89903/16128 * eta + 6072539/2709504) / tau**(19/8) ) * tm_**(4/3) )"
      ]
    },
    {
      "cell_type": "code",
      "execution_count": null,
      "metadata": {
        "id": "YOLehFf0yXpd"
      },
      "outputs": [],
      "source": [
        "#Expression for Phi(t) (upto 2PN)\n",
        "def Phi_ext(t, t0, phi0, omega0, Mc, eta, N):\n",
        "    '''\n",
        "    t = time\n",
        "    t0 = reference epoch\n",
        "    phi0 = phi(t0)\n",
        "    omega0 = omega(t0)\n",
        "    M = total mass of the SMBHB\n",
        "    eta = symmetric mass ratio\n",
        "    N = 0, 1, 1.5 or 2 (0--> Newtonian order, 1--> Upto 1PN, 1.5--> Upto 1.5PN, 2--> Upto 2PN)\n",
        "    '''\n",
        "\n",
        "    #Defining function for 'indefinite' Phi(omega)\n",
        "    def phi(t, t0, phi0, omega0, Mc, eta, N):\n",
        "\n",
        "        #Getting omega(t)\n",
        "        omg = Omega_ext(t, t0, omega0, Mc, eta, N)\n",
        "\n",
        "        #Defining some parameters/scaled variables\n",
        "        #Mc = (M)*((eta)**(3/5))\n",
        "        tN_omg = tsun*Mc*omg\n",
        "\n",
        "        #Getting phi(t)\n",
        "        if N==0:\n",
        "            return - 1 / (32 * tN_omg**(5/3))\n",
        "\n",
        "        elif N==1:\n",
        "            return - 1 / (32 * tN_omg**(5/3)) + (-55/384 * eta**(3/5) - 3715/32256 / eta**(2/5)) / tN_omg\n",
        "\n",
        "        elif N==1.5:\n",
        "            return - 1 / (32 * tN_omg**(5/3)) + (-55/384 * eta**(3/5) - 3715/32256 / eta**(2/5)) / tN_omg + 5 / (16 * tN_omg**(2/3) * eta**(3/5)) * np.pi\n",
        "\n",
        "        elif N==2:\n",
        "            return - 1 / (32 * tN_omg**(5/3)) + (-55/384 * eta**(3/5) - 3715/32256 / eta**(2/5)) / tN_omg + 5 / (16 * tN_omg**(2/3) * eta**(3/5)) * np.pi + (-3085/4608 * eta**(6/5) - 27145/32256 * eta**(1/5) - 15293365/32514048 / eta**(4/5)) / tN_omg**(1/3)\n",
        "\n",
        "    return phi(t, t0, phi0, omega0, Mc, eta, N) - phi(t0, t0, phi0, omega0, Mc, eta, N) + phi0"
      ]
    },
    {
      "cell_type": "code",
      "execution_count": null,
      "metadata": {
        "id": "i3JxLxJtiAMB"
      },
      "outputs": [],
      "source": [
        "def pinn_loss_format(model, t, phi0, omg0, Mc, eta, phi_exact, omg_exact):\n",
        "    pred = model(t, phi0, omg0, Mc, eta)\n",
        "    omg_pred_scaled = pred[:, 0:1]  # Scaled log10(omega)\n",
        "    phi_pred_scaled = pred[:, 1:2]  # Scaled phi\n",
        "\n",
        "    # Unscale inputs for physics computations\n",
        "    t_unscaled = torch.tensor(X_scaler.inverse_transform(torch.cat([t, phi0, omg0, Mc, eta], dim=1).cpu().numpy())[:, 0:1], dtype=torch.float32).to(device)\n",
        "    phi0_unscaled = torch.tensor(X_scaler.inverse_transform(torch.cat([t, phi0, omg0, Mc, eta], dim=1).cpu().numpy())[:, 1:2], dtype=torch.float32).to(device)\n",
        "    omg0_unscaled = torch.tensor(X_scaler.inverse_transform(torch.cat([t, phi0, omg0, Mc, eta], dim=1).cpu().numpy())[:, 2:3], dtype=torch.float32).to(device)\n",
        "    Mc_unscaled = torch.tensor(X_scaler.inverse_transform(torch.cat([t, phi0, omg0, Mc, eta], dim=1).cpu().numpy())[:, 3:4], dtype=torch.float32).to(device)\n",
        "    eta_unscaled = torch.tensor(X_scaler.inverse_transform(torch.cat([t, phi0, omg0, Mc, eta], dim=1).cpu().numpy())[:, 4:5], dtype=torch.float32).to(device)\n",
        "\n",
        "    # Compute exact solutions (using unscaled inputs)\n",
        "    phi_exact_unscaled = Phi_ext(t_unscaled*yr, 0, phi0_unscaled, 10**omg0_unscaled, 10**Mc_unscaled, eta_unscaled, 2)/(2*torch.pi)\n",
        "    omg_exact_unscaled = torch.log10(Omega_ext(t_unscaled*yr, 0, 10**omg0_unscaled, 10**Mc_unscaled, eta_unscaled, 2))\n",
        "\n",
        "    # Scale the exact solutions to compare with predictions\n",
        "    exact_unscaled = torch.cat([omg_exact_unscaled, phi_exact_unscaled], dim=1)\n",
        "    exact_scaled = torch.tensor(y_scaler.transform(exact_unscaled.cpu().numpy()), dtype=torch.float32).to(device)\n",
        "    phi_exact_scaled = exact_scaled[:, 1:2]\n",
        "    omg_exact_scaled = exact_scaled[:, 0:1]\n",
        "\n",
        "    # Data losses (in scaled space)\n",
        "    loss_data_phi = torch.mean((phi_pred_scaled - phi_exact_scaled)**2)\n",
        "    loss_data_omg = torch.mean((omg_pred_scaled - omg_exact_scaled)**2)\n",
        "\n",
        "    # Initial condition losses (in scaled space)\n",
        "    loss_ic_phi = torch.mean((phi_pred_scaled[0] - phi0)**2)\n",
        "    loss_ic_omg = torch.mean((omg_pred_scaled[0] - omg0)**2)\n",
        "\n",
        "    # Total loss\n",
        "    loss_ic_phi_fac=1e-2\n",
        "    total_loss = (\n",
        "        loss_data_phi +\n",
        "        loss_data_omg +\n",
        "        loss_ic_phi_fac*loss_ic_phi +\n",
        "        loss_ic_phi_fac*loss_ic_omg\n",
        "    )\n",
        "\n",
        "    # Return total loss and individual losses\n",
        "    return total_loss, {\n",
        "        \"loss_data_phi\": loss_data_phi,\n",
        "        \"loss_data_omg\": loss_data_omg,\n",
        "        \"loss_ic_phi\": loss_ic_phi_fac*loss_ic_phi,\n",
        "        \"loss_ic_omg\": loss_ic_phi_fac*loss_ic_omg\n",
        "    }"
      ]
    },
    {
      "cell_type": "code",
      "execution_count": null,
      "metadata": {
        "id": "OL3rn4e0nfje"
      },
      "outputs": [],
      "source": [
        "model = PINN(input_size=5, hidden_size=64, output_size=2, num_hidden=4).to(device)\n",
        "optimizer = torch.optim.Adam(model.parameters(), lr=1e-3)\n",
        "\n",
        "epochs = 500\n",
        "losses = []"
      ]
    },
    {
      "cell_type": "code",
      "execution_count": null,
      "metadata": {
        "colab": {
          "base_uri": "https://localhost:8080/"
        },
        "id": "t3xXOrvV5Mav",
        "outputId": "4fec23e4-ba03-4faa-a601-449795be6534"
      },
      "outputs": [
        {
          "output_type": "stream",
          "name": "stdout",
          "text": [
            "Epoch 0: Total Loss = 2.079148e+00\n",
            "  Data Phi Loss = 1.045901e+00\n",
            "  Data Omega Loss = 1.013228e+00\n",
            "  IC Phi Loss = 1.000066e-02\n",
            "  IC Omega Loss = 1.001872e-02\n",
            "Epoch 100: Total Loss = 8.318006e-02\n",
            "  Data Phi Loss = 4.347140e-02\n",
            "  Data Omega Loss = 7.977785e-03\n",
            "  IC Phi Loss = 1.016319e-02\n",
            "  IC Omega Loss = 2.156769e-02\n",
            "Epoch 200: Total Loss = 6.248686e-02\n",
            "  Data Phi Loss = 2.899373e-02\n",
            "  Data Omega Loss = 3.790910e-03\n",
            "  IC Phi Loss = 1.045407e-02\n",
            "  IC Omega Loss = 1.924815e-02\n",
            "Epoch 300: Total Loss = 5.520381e-02\n",
            "  Data Phi Loss = 2.555279e-02\n",
            "  Data Omega Loss = 3.334958e-03\n",
            "  IC Phi Loss = 1.048383e-02\n",
            "  IC Omega Loss = 1.583224e-02\n",
            "Epoch 400: Total Loss = 5.093345e-02\n",
            "  Data Phi Loss = 2.438482e-02\n",
            "  Data Omega Loss = 3.048970e-03\n",
            "  IC Phi Loss = 1.031828e-02\n",
            "  IC Omega Loss = 1.318138e-02\n"
          ]
        }
      ],
      "source": [
        "for epoch in range(epochs):\n",
        "    optimizer.zero_grad()\n",
        "    total_loss, individual_losses = pinn_loss_format(\n",
        "        model, t_train, phi0_train, omg0_train, Mc_train, eta_train,\n",
        "        phi_exact_train, omg_exact_train\n",
        "    )\n",
        "    total_loss.backward()\n",
        "    optimizer.step()\n",
        "\n",
        "    losses.append(total_loss.item())\n",
        "\n",
        "    if epoch % 100 == 0:\n",
        "        print(f\"Epoch {epoch}: Total Loss = {total_loss.item():.6e}\")\n",
        "        print(f\"  Data Phi Loss = {individual_losses['loss_data_phi'].item():.6e}\")\n",
        "        print(f\"  Data Omega Loss = {individual_losses['loss_data_omg'].item():.6e}\")\n",
        "        print(f\"  IC Phi Loss = {individual_losses['loss_ic_phi'].item():.6e}\")\n",
        "        print(f\"  IC Omega Loss = {individual_losses['loss_ic_omg'].item():.6e}\")"
      ]
    },
    {
      "cell_type": "code",
      "execution_count": null,
      "metadata": {
        "colab": {
          "base_uri": "https://localhost:8080/",
          "height": 608
        },
        "id": "qzpDkVBmFnbk",
        "outputId": "e0612690-03d0-4b71-97b0-3524ed3598e5"
      },
      "outputs": [
        {
          "output_type": "stream",
          "name": "stdout",
          "text": [
            "Predicted (unscaled) [log10(omega), phi]: tensor([[-7.4522,  3.9011],\n",
            "        [-9.2354, -0.0146],\n",
            "        [-7.4256,  5.5006],\n",
            "        [-9.6760,  0.7064]], device='cuda:0')\n",
            "True (unscaled) [log10(omega), phi]: tensor([[-7.5040,  3.6748],\n",
            "        [-9.2387,  0.0511],\n",
            "        [-7.4234,  5.5994],\n",
            "        [-9.6454,  0.7495]], device='cuda:0')\n"
          ]
        },
        {
          "output_type": "display_data",
          "data": {
            "text/plain": [
              "<Figure size 640x480 with 1 Axes>"
            ],
            "image/png": "[encoded data removed]"
          },
          "metadata": {}
        }
      ],
      "source": [
        "# Cell 9: Evaluation\n",
        "#torch.tensor(y_scaler.inverse_transform(y_pred_scaled.cpu().numpy()), dtype=torch.float32).to(device)\n",
        "\n",
        "model.eval()\n",
        "with torch.no_grad():\n",
        "    # Unpack X into its components (already scaled)\n",
        "    t = X[:, 0:1]\n",
        "    phi0 = X[:, 1:2]\n",
        "    omg0 = X[:, 2:3]\n",
        "    Mc = X[:, 3:4]\n",
        "    eta = X[:, 4:5]\n",
        "\n",
        "    # Get predictions (scaled)\n",
        "    y_pred_scaled = model(t, phi0, omg0, Mc, eta)  # Shape: (1000000, 2)\n",
        "\n",
        "    # Unscale predictions\n",
        "    y_pred_unscaled = torch.tensor(y_scaler.inverse_transform(y_pred_scaled.cpu().numpy()), dtype=torch.float32).to(device)\n",
        "\n",
        "# Print predictions for a sample (e.g., index 1)\n",
        "print(\"Predicted (unscaled) [log10(omega), phi]:\", y_pred_unscaled[1:5])\n",
        "print(\"True (unscaled) [log10(omega), phi]:\", y_transformed[1:5])\n",
        "\n",
        "# Optional: Plot the loss curve\n",
        "plt.plot(losses)\n",
        "plt.xlabel(\"Epoch\")\n",
        "plt.ylabel(\"Loss\")\n",
        "plt.title(\"Training Loss Over Epochs\")\n",
        "plt.yscale(\"log\")\n",
        "plt.show()"
      ]
    },
    {
      "cell_type": "code",
      "execution_count": null,
      "metadata": {
        "id": "lZz1nGTwGKiw"
      },
      "outputs": [],
      "source": [
        "# store data points\n",
        "outdir=\"PINN_ODE_CIRC_t2\"\n",
        "os.makedirs(outdir, exist_ok=True)"
      ]
    },
    {
      "cell_type": "code",
      "execution_count": null,
      "metadata": {
        "colab": {
          "base_uri": "https://localhost:8080/"
        },
        "id": "BqjH1qCsOigQ",
        "outputId": "16585353-acdb-4c8b-ecb1-3d85116b7f90"
      },
      "outputs": [
        {
          "output_type": "execute_result",
          "data": {
            "text/plain": [
              "['PINN_ODE_CIRC_t2/y_scaler.pkl']"
            ]
          },
          "metadata": {},
          "execution_count": 28
        }
      ],
      "source": [
        "import joblib\n",
        "\n",
        "# Save scalers\n",
        "joblib.dump(X_scaler, f\"{outdir}/X_scaler.pkl\")\n",
        "joblib.dump(y_scaler, f\"{outdir}/y_scaler.pkl\")"
      ]
    },
    {
      "cell_type": "code",
      "execution_count": null,
      "metadata": {
        "id": "4p7T0ZwjOigQ"
      },
      "outputs": [],
      "source": [
        "torch.save(model.state_dict(), f\"{outdir}/model_weights.pth\")\n",
        "torch.save(model, f\"{outdir}/model_full.pth\")"
      ]
    },
    {
      "cell_type": "code",
      "source": [
        "import matplotlib as mpl\n",
        "mpl.rcParams['agg.path.chunksize'] = 10000\n",
        "plt.plot(y_pred_unscaled[:,0].cpu().numpy(),y_transformed[:, 0].cpu().numpy(),marker='.',ls='')\n",
        "plt.plot(y_pred_unscaled[:,0].cpu().numpy(),y_pred_unscaled[:,0].cpu().numpy())"
      ],
      "metadata": {
        "colab": {
          "base_uri": "https://localhost:8080/",
          "height": 447
        },
        "id": "j7yq4gHcW05F",
        "outputId": "cdbe0801-09f1-4b9c-ae55-8b3c63d5cbf7"
      },
      "execution_count": null,
      "outputs": [
        {
          "output_type": "execute_result",
          "data": {
            "text/plain": [
              "[<matplotlib.lines.Line2D at 0x787fad908dd0>]"
            ]
          },
          "metadata": {},
          "execution_count": 50
        },
        {
          "output_type": "display_data",
          "data": {
            "text/plain": [
              "<Figure size 640x480 with 1 Axes>"
            ],
            "image/png": "[encoded data removed]"
          },
          "metadata": {}
        }
      ]
    },
    {
      "cell_type": "code",
      "execution_count": null,
      "metadata": {
        "id": "RaUdU_HJKdw1",
        "colab": {
          "base_uri": "https://localhost:8080/",
          "height": 447
        },
        "outputId": "67914970-d3be-4a11-dae2-6582ecce7ea2"
      },
      "outputs": [
        {
          "output_type": "execute_result",
          "data": {
            "text/plain": [
              "[<matplotlib.lines.Line2D at 0x787fad3d0750>]"
            ]
          },
          "metadata": {},
          "execution_count": 48
        },
        {
          "output_type": "display_data",
          "data": {
            "text/plain": [
              "<Figure size 640x480 with 1 Axes>"
            ],
            "image/png": "[encoded data removed]"
          },
          "metadata": {}
        }
      ],
      "source": [
        "import matplotlib as mpl\n",
        "mpl.rcParams['agg.path.chunksize'] = 10000\n",
        "plt.plot(y_pred_unscaled[:,1].cpu().numpy(),y_transformed[:, 1].cpu().numpy(),marker='.',ls='')\n",
        "plt.plot(y_pred_unscaled[:,1].cpu().numpy(),y_pred_unscaled[:,1].cpu().numpy())"
      ]
    }
  ],
  "metadata": {
    "accelerator": "GPU",
    "colab": {
      "gpuType": "T4",
      "provenance": []
    },
    "kernelspec": {
      "display_name": "Python 3 (ipykernel)",
      "language": "python",
      "name": "python3"
    },
    "language_info": {
      "codemirror_mode": {
        "name": "ipython",
        "version": 3
      },
      "file_extension": ".py",
      "mimetype": "text/x-python",
      "name": "python",
      "nbconvert_exporter": "python",
      "pygments_lexer": "ipython3",
      "version": "3.12.10"
    }
  },
  "nbformat": 4,
  "nbformat_minor": 0
}