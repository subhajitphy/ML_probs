{
  "nbformat": 4,
  "nbformat_minor": 0,
  "metadata": {
    "colab": {
      "provenance": [],
      "authorship_tag": "ABX9TyMBMMo/LwbPnARNUqNolO7m",
      "include_colab_link": true
    },
    "kernelspec": {
      "name": "python3",
      "display_name": "Python 3"
    },
    "language_info": {
      "name": "python"
    }
  },
  "cells": [
    {
      "cell_type": "markdown",
      "metadata": {
        "id": "view-in-github",
        "colab_type": "text"
      },
      "source": [
        "<a href=\"https://colab.research.google.com/github/subhajitphy/ML_probs/blob/main/cgws_pinn.ipynb\" target=\"_parent\"><img src=\"https://colab.research.google.com/assets/colab-badge.svg\" alt=\"Open In Colab\"/></a>"
      ]
    },
    {
      "cell_type": "code",
      "source": [
        "import torch\n",
        "import torch.nn as nn\n",
        "import torch.optim as optim\n",
        "import numpy as np\n",
        "import matplotlib.pyplot as plt\n",
        "import matplotlib.ticker as ticker"
      ],
      "metadata": {
        "id": "odJdfLQDou92"
      },
      "execution_count": 1,
      "outputs": []
    },
    {
      "cell_type": "code",
      "source": [
        "from astropy.constants import GM_sun, c, pc\n",
        "#from torchdiffeq import odeint\n",
        "\n",
        "# Constants\n",
        "GM_sun, c, pc = GM_sun.value, c.value, pc.value\n",
        "dsun, tsun = GM_sun/(c**2), GM_sun/(c**3)\n",
        "yr = 365.25 * 24 * 3600\n",
        "tsun, yr = torch.tensor(tsun), torch.tensor(yr)"
      ],
      "metadata": {
        "id": "XU5C0DBrpGMJ"
      },
      "execution_count": 2,
      "outputs": []
    },
    {
      "cell_type": "code",
      "source": [
        "def f_rhs(omg,m_chirp,eta,chi_A,chi_S):\n",
        "  m_total=m_chirp/eta**(3/5)\n",
        "  nu=1\n",
        "  delta=torch.sqrt(1-4*eta)\n",
        "  tN_omg = tsun * m_chirp * omg  #post-Newtonian relation\n",
        "  tm_omg = tsun * m_total * omg  #post-Newtonian relation\n",
        "  Q_15=(-113/12*chi_A*delta+19/3*chi_S*eta-113/12*chi_S+4*torch.pi)\n",
        "  return ((96/5) * omg**2 * tN_omg**(5/3) * (1 + (-743/336 - (11/4)*eta) * tm_omg**(2/3) * nu\n",
        "          + Q_15 * tm_omg * nu**(3/2) + (34103/18144 + (13661/2016)*eta\n",
        "          + (59/18)*eta**2) * tm_omg**(4/3) * nu**2))"
      ],
      "metadata": {
        "id": "_dxU-VYmpKpt"
      },
      "execution_count": 3,
      "outputs": []
    },
    {
      "cell_type": "code",
      "source": [
        "num_points = 10000\n",
        "t_span = torch.linspace(0, 10*yr, num_points, dtype=torch.float64)\n",
        "\n",
        "omg_a, m_c, eta, nu, chi_A, chi_S = map(\n",
        "    lambda x: torch.tensor(x, dtype=torch.float64),\n",
        "    [5e-7, 1e9, 1/4, 1.0, 0.4, 0.5]\n",
        ")\n"
      ],
      "metadata": {
        "id": "_uXtZWqipNO2"
      },
      "execution_count": 4,
      "outputs": []
    },
    {
      "cell_type": "code",
      "source": [
        "f_rhs(omg_a,m_c,eta,chi_A,chi_S)"
      ],
      "metadata": {
        "colab": {
          "base_uri": "https://localhost:8080/"
        },
        "id": "_o8h3V7-q9__",
        "outputId": "f85e62b9-d778-4fa5-9344-8f0e930d8ede"
      },
      "execution_count": 5,
      "outputs": [
        {
          "output_type": "execute_result",
          "data": {
            "text/plain": [
              "tensor(2.0711e-16, dtype=torch.float64)"
            ]
          },
          "metadata": {},
          "execution_count": 5
        }
      ]
    },
    {
      "cell_type": "code",
      "source": [
        "def get_omg(t,t_a,omg_a,m_c,eta,nu,chi_A,chi_S):\n",
        "    m=m_c/eta**(3/5)\n",
        "    tN_ = m_c*omg_a*tsun\n",
        "    tm_ = m*omg_a*tsun\n",
        "    tmta_ = t-t_a\n",
        "    delta=torch.sqrt(1-4*eta)\n",
        "    tau = 1-256/5*omg_a*tN_**(5/3)*tmta_\n",
        "    Q15=(-113/12*chi_A*delta+19/3*chi_S*eta-113/12*chi_S+4*torch.pi)\n",
        "    ww=(omg_a*(((371/128*eta**2+56975/16128*eta+1855099/903168)/tau**(7/8)+(-3058673/\n",
        "    1354752-617/192*eta**2-5429/1344*eta)/tau**(11/8)+(-605/192*eta**2-40865/8064*eta-\\\n",
        "    2760245/1354752)/tau**(13/8)+(1331/384*eta**2+89903/16128*eta+6072539/2709504)/\n",
        "    tau**(19/8))*tm_**(4/3)*nu**2+(3/5/tau**(11/8)*Q15-3/5/tau**(3/4)*Q15)*tm_*nu**(3/2)+\n",
        "    ((11/8*eta+743/672)/tau**(5/8)+(-11/8*eta-743/672)/tau**(11/8))*tm_**(2/3)*nu+1/\n",
        "    tau**(3/8)))\n",
        "    return ww"
      ],
      "metadata": {
        "id": "--whyUydrNc1"
      },
      "execution_count": 6,
      "outputs": []
    },
    {
      "cell_type": "code",
      "source": [
        "omg_arr=get_omg(t_span,0,omg_a,m_c,eta,nu,chi_A,chi_S)"
      ],
      "metadata": {
        "id": "HWkIjD76suJA"
      },
      "execution_count": 7,
      "outputs": []
    },
    {
      "cell_type": "code",
      "source": [
        "plt.plot(t_span/yr,omg_arr)"
      ],
      "metadata": {
        "colab": {
          "base_uri": "https://localhost:8080/",
          "height": 463
        },
        "id": "NQw1y41Zs1X8",
        "outputId": "be34a775-ebc3-471d-81fb-6a08c2cfb62c"
      },
      "execution_count": 8,
      "outputs": [
        {
          "output_type": "execute_result",
          "data": {
            "text/plain": [
              "[<matplotlib.lines.Line2D at 0x7c87c7538f10>]"
            ]
          },
          "metadata": {},
          "execution_count": 8
        },
        {
          "output_type": "display_data",
          "data": {
            "text/plain": [
              "<Figure size 640x480 with 1 Axes>"
            ],
            "image/png": "[encoded data removed]"
          },
          "metadata": {}
        }
      ]
    },
    {
      "cell_type": "code",
      "source": [
        "num_points = 5000\n",
        "t_span = torch.linspace(0, 10*yr, num_points, dtype=torch.float64)\n",
        "omg_arr = get_omg(t_span, 0, omg_a, m_c, eta, nu, chi_A, chi_S)\n",
        "\n",
        "# Normalize time for stability\n",
        "t_min, t_max = t_span.min(), t_span.max()\n",
        "t_scale = (t_max - t_min)   # chain rule factor\n",
        "t_obs = ((t_span - t_min) / t_scale).reshape(-1,1)\n",
        "omg_obs = omg_arr.reshape(-1,1)"
      ],
      "metadata": {
        "id": "ioE5aQJWs7St"
      },
      "execution_count": 9,
      "outputs": []
    },
    {
      "cell_type": "code",
      "source": [
        "class PINN(nn.Module):\n",
        "    def __init__(self, width=64, depth=4):\n",
        "        super().__init__()\n",
        "        layers = [nn.Linear(1, width), nn.Tanh()]\n",
        "        for _ in range(depth-1):\n",
        "            layers += [nn.Linear(width, width), nn.Tanh()]\n",
        "        layers += [nn.Linear(width, 1)]\n",
        "        self.net = nn.Sequential(*layers)\n",
        "        # Choose activation for output: exp or softplus\n",
        "        self.softplus = nn.Softplus(beta=2.0)\n",
        "        self.double()  # ensure parameters are float64\n",
        "\n",
        "    def forward(self, x):\n",
        "        # Use exp if you want strict positivity but allow more curvature,\n",
        "        # or softplus for smoother control\n",
        "        return self.softplus(self.net(x))\n",
        "        # return torch.exp(self.net(x))   # alternative\n"
      ],
      "metadata": {
        "id": "tcOLiUKK0S_K"
      },
      "execution_count": 10,
      "outputs": []
    },
    {
      "cell_type": "code",
      "source": [
        "def time_derivative_phys(model, t_norm):\n",
        "    \"\"\"\n",
        "    Compute ω(t) and its derivative dω/dt in *physical* time units\n",
        "    from a model trained on *normalized* time t_norm ∈ [0,1].\n",
        "\n",
        "    Why this is needed:\n",
        "    - In PINNs, we often normalize time (and other inputs) to improve\n",
        "      training stability and conditioning of the network.\n",
        "    - Autograd will give us the derivative dω/dτ with respect to the\n",
        "      *normalized* time variable τ = (t - t_min) / (t_max - t_min).\n",
        "    - But the physics ODE f_rhs(ω) is written in terms of the *physical*\n",
        "      time variable t (seconds, years, etc.), so we must convert:\n",
        "        dω/dt = (dω/dτ) * (dτ/dt)\n",
        "      And since τ = (t - t_min) / t_scale, we have:\n",
        "        dτ/dt = 1 / t_scale  ⇒  dω/dt = (dω/dτ) / t_scale\n",
        "    \"\"\"\n",
        "\n",
        "    # Ensure autograd tracks t_norm so it can compute the derivative w.r.t. it\n",
        "    t_norm.requires_grad_(True)\n",
        "\n",
        "    # Forward pass: predict ω(τ) from normalized time input\n",
        "    omega = model(t_norm)\n",
        "\n",
        "    # Autograd: compute dω/dτ (derivative w.r.t. normalized time variable)\n",
        "    (domega_dtau,) = torch.autograd.grad(\n",
        "        outputs=omega,             # function output\n",
        "        inputs=t_norm,             # variable to differentiate w.r.t.\n",
        "        grad_outputs=torch.ones_like(omega),  # backprop seed (same shape as omega)\n",
        "        create_graph=True,         # keep graph for higher-order derivatives if needed\n",
        "        retain_graph=True          # retain graph for multiple autograd calls\n",
        "    )\n",
        "\n",
        "    # Convert derivative from normalized time (τ) to physical time (t)\n",
        "    # This is the chain rule correction:\n",
        "    #   domega/dt = domega/dτ / t_scale\n",
        "    # Here t_scale = (t_max - t_min) in *physical* time units\n",
        "    domega_dt = domega_dtau / t_scale\n",
        "\n",
        "    # Return both ω(t) and dω/dt in *physical* time units\n",
        "    return omega, domega_dt\n"
      ],
      "metadata": {
        "id": "5d6SFwMH0Y7E"
      },
      "execution_count": 11,
      "outputs": []
    },
    {
      "cell_type": "code",
      "source": [
        "model = PINN(width=64, depth=4)\n",
        "opt   = optim.Adam(model.parameters(), lr=2e-3)\n",
        "w_phy, w_data, w_ic = 0, 1, 0\n",
        "omega0_known = omg_obs[:1].detach()\n",
        "#t_colloc = torch.linspace(0, 1, 200, dtype=torch.float64).reshape(-1,1)"
      ],
      "metadata": {
        "id": "2QA7OhHt0cv2"
      },
      "execution_count": 12,
      "outputs": []
    },
    {
      "cell_type": "code",
      "source": [
        "# # Just check initial model predictions before training\n",
        "# with torch.no_grad():\n",
        "#     omega_pred_init = model(t_obs)\n",
        "#     print(\"Initial model output shape:\", omega_pred_init.shape)\n",
        "#     print(\"First 5 predictions:\", omega_pred_init[:5].flatten().cpu().numpy())\n",
        "#     print(\"First 5 observed:\", omg_obs[:5].flatten().cpu().numpy())\n",
        "#     print(\"Initial MSE data loss:\", ((omega_pred_init - omg_obs)**2).mean().item())\n"
      ],
      "metadata": {
        "id": "3wN079z8U-87"
      },
      "execution_count": 13,
      "outputs": []
    },
    {
      "cell_type": "code",
      "source": [
        "omega0_known"
      ],
      "metadata": {
        "colab": {
          "base_uri": "https://localhost:8080/"
        },
        "id": "BTUnklCK0oxp",
        "outputId": "39cde90d-842d-41ab-ad92-437172ea07a5"
      },
      "execution_count": 14,
      "outputs": [
        {
          "output_type": "execute_result",
          "data": {
            "text/plain": [
              "tensor([[5.0000e-07]], dtype=torch.float64)"
            ]
          },
          "metadata": {},
          "execution_count": 14
        }
      ]
    },
    {
      "cell_type": "code",
      "source": [
        "def compute_losses():\n",
        "    omega_c, domega_dt_c = time_derivative_phys(model, t_obs)\n",
        "    rhs_c = f_rhs(omega_c, m_c, eta, chi_A, chi_S)\n",
        "    loss_phy = ((domega_dt_c - rhs_c)**2).mean()\n",
        "\n",
        "    loss_data = ((model(t_obs) - omg_obs)**2).mean()\n",
        "    loss_ic   = ((model(torch.zeros_like(t_obs[:1])) - omega0_known)**2).mean()\n",
        "\n",
        "    total_loss = w_phy*loss_phy + w_data*loss_data + w_ic*loss_ic\n",
        "    loss_dict = {\n",
        "        \"loss_phy\": w_phy*loss_phy,\n",
        "        \"loss_data\": w_data*loss_data,\n",
        "        \"loss_ic\": w_ic*loss_ic\n",
        "    }\n",
        "    return total_loss, loss_dict"
      ],
      "metadata": {
        "id": "lO42cqD20zqb"
      },
      "execution_count": 15,
      "outputs": []
    },
    {
      "cell_type": "code",
      "source": [
        "epochs_list = []\n",
        "total_loss_list = []\n",
        "phy_loss_list = []\n",
        "data_loss_list = []\n",
        "ic_loss_list = []\n",
        "\n",
        "for epoch in range(2000):\n",
        "    opt.zero_grad()\n",
        "    total_loss, loss_dict = compute_losses()\n",
        "    total_loss.backward()\n",
        "    opt.step()\n",
        "\n",
        "    # Store losses for plotting\n",
        "    epochs_list.append(epoch)\n",
        "    total_loss_list.append(total_loss.item())\n",
        "    phy_loss_list.append(loss_dict[\"loss_phy\"].item())\n",
        "    data_loss_list.append(loss_dict[\"loss_data\"].item())\n",
        "    ic_loss_list.append(loss_dict[\"loss_ic\"].item())\n",
        "\n",
        "    if epoch % 200 == 0:\n",
        "        print(f\"{epoch}: total={total_loss.item():.3e}, \"\n",
        "              + \", \".join(f\"{k}={v.item():.3e}\" for k,v in loss_dict.items()))"
      ],
      "metadata": {
        "colab": {
          "base_uri": "https://localhost:8080/"
        },
        "id": "xclNMrFR1olv",
        "outputId": "55d672c3-c664-4de5-d1f8-0a195e908640"
      },
      "execution_count": 16,
      "outputs": [
        {
          "output_type": "stream",
          "name": "stdout",
          "text": [
            "0: total=8.315e-02, loss_phy=0.000e+00, loss_data=8.315e-02, loss_ic=0.000e+00\n",
            "200: total=9.419e-08, loss_phy=0.000e+00, loss_data=9.419e-08, loss_ic=0.000e+00\n",
            "400: total=9.037e-08, loss_phy=0.000e+00, loss_data=9.037e-08, loss_ic=0.000e+00\n",
            "600: total=8.562e-08, loss_phy=0.000e+00, loss_data=8.562e-08, loss_ic=0.000e+00\n",
            "800: total=8.034e-08, loss_phy=0.000e+00, loss_data=8.034e-08, loss_ic=0.000e+00\n",
            "1000: total=7.480e-08, loss_phy=0.000e+00, loss_data=7.480e-08, loss_ic=0.000e+00\n",
            "1200: total=6.922e-08, loss_phy=0.000e+00, loss_data=6.922e-08, loss_ic=0.000e+00\n",
            "1400: total=6.372e-08, loss_phy=0.000e+00, loss_data=6.372e-08, loss_ic=0.000e+00\n",
            "1600: total=5.842e-08, loss_phy=0.000e+00, loss_data=5.842e-08, loss_ic=0.000e+00\n",
            "1800: total=5.339e-08, loss_phy=0.000e+00, loss_data=5.339e-08, loss_ic=0.000e+00\n"
          ]
        }
      ]
    },
    {
      "cell_type": "code",
      "source": [
        "t_eval = torch.linspace(0, 1, 500, dtype=torch.float64).reshape(-1,1)\n",
        "omega_pred = model(t_eval).detach()\n",
        "\n",
        "plt.subplot(121)\n",
        "plt.plot(t_span/yr, omg_arr, label=\"true\")\n",
        "plt.xlabel(\"t [yr]\")\n",
        "plt.ylabel(\"omega\")\n",
        "plt.legend()\n",
        "plt.show()\n",
        "\n",
        "plt.subplot(122)\n",
        "plt.plot(t_eval*(t_max - t_min) + t_min, omega_pred, label=\"PINN\")\n",
        "plt.xlabel(\"t [yr]\")\n",
        "plt.ylabel(\"omega\")\n",
        "plt.legend()\n",
        "plt.show()\n"
      ],
      "metadata": {
        "colab": {
          "base_uri": "https://localhost:8080/",
          "height": 897
        },
        "id": "Uf9BohWO2Jpn",
        "outputId": "e3f26619-2d67-4861-9729-3976541e5da8"
      },
      "execution_count": 17,
      "outputs": [
        {
          "output_type": "display_data",
          "data": {
            "text/plain": [
              "<Figure size 640x480 with 1 Axes>"
            ],
            "image/png": "[encoded data removed]"
          },
          "metadata": {}
        },
        {
          "output_type": "display_data",
          "data": {
            "text/plain": [
              "<Figure size 640x480 with 1 Axes>"
            ],
            "image/png": "[encoded data removed]"
          },
          "metadata": {}
        }
      ]
    },
    {
      "cell_type": "code",
      "source": [],
      "metadata": {
        "id": "8xks84G0Uy4X"
      },
      "execution_count": null,
      "outputs": []
    }
  ]
}